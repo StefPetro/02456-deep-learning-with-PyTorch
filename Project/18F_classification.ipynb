{
 "cells": [
  {
   "cell_type": "markdown",
   "metadata": {
    "cell_id": "00000-863594dd-75cd-49b8-aa4e-33d35cd3fd87",
    "deepnote_cell_type": "code",
    "deepnote_to_be_reexecuted": false,
    "execution_millis": 1,
    "execution_start": 1636997946520,
    "source_hash": "97081a08",
    "tags": []
   },
   "source": [
    "## Imports, seed and load data"
   ]
  },
  {
   "cell_type": "code",
   "execution_count": null,
   "metadata": {},
   "outputs": [],
   "source": [
    "from pytorch_lightning import callbacks\n",
    "import torch\n",
    "from torch import nn, optim\n",
    "from torch.nn import functional as F\n",
    "import pytorch_lightning as pl\n",
    "from torchmetrics.functional import accuracy\n",
    "\n",
    "import pandas as pd\n",
    "import numpy as np\n",
    "import os\n",
    "from typing import Union, Tuple\n",
    "import wandb\n",
    "\n",
    "try:\n",
    "    from country_region import *\n",
    "    from data_processing import *\n",
    "except Exception as e:\n",
    "    print(e)"
   ]
  },
  {
   "cell_type": "code",
   "execution_count": 8,
   "metadata": {
    "cell_id": "00001-479b1a1c-dfca-49f9-83e0-a3d4d89c2f15",
    "deepnote_cell_type": "code",
    "deepnote_to_be_reexecuted": false,
    "execution_millis": 4,
    "execution_start": 1636997946536,
    "source_hash": "7423d502",
    "tags": []
   },
   "outputs": [],
   "source": [
    "def fix_all_seeds(seed):\n",
    "    np.random.seed(seed)\n",
    "    os.environ['PYTHONHASHSEED'] = str(seed)\n",
    "    torch.manual_seed(seed)\n",
    "    torch.cuda.manual_seed(seed)\n",
    "    torch.cuda.manual_seed_all(seed)\n",
    "\n",
    "fix_all_seeds(42)"
   ]
  },
  {
   "cell_type": "code",
   "execution_count": 9,
   "metadata": {
    "cell_id": "00003-781ad054-f142-4a34-9a24-9b9a9d2f0583",
    "deepnote_cell_type": "code",
    "deepnote_to_be_reexecuted": false,
    "execution_millis": 16339,
    "execution_start": 1636997949420,
    "source_hash": "89ec949a",
    "tags": []
   },
   "outputs": [],
   "source": [
    "meta = pd.read_csv('4000_PCS_human_origins/v44.3_HO_public.anno', sep='\\t')\n",
    "pcs = pd.read_csv('4000_PCS_human_origins/pcs.txt', sep='\\t')"
   ]
  },
  {
   "cell_type": "markdown",
   "metadata": {
    "cell_id": "00009-5b36e1fa-75b2-4af3-b9ed-7f4e59b2435a",
    "deepnote_cell_type": "markdown",
    "tags": []
   },
   "source": [
    "## FFNN Model"
   ]
  },
  {
   "cell_type": "code",
   "execution_count": 24,
   "metadata": {
    "cell_id": "00010-2362a30c-c69e-4839-816d-887940a47d17",
    "deepnote_cell_type": "code",
    "deepnote_to_be_reexecuted": false,
    "execution_millis": 0,
    "execution_start": 1636998288897,
    "source_hash": "9d9abd78",
    "tags": []
   },
   "outputs": [],
   "source": [
    "# Simple ffnn\n",
    "class ffnn(pl.LightningModule):\n",
    "    def __init__(self, input_size: int=100, layer_1: int=2000, layer_2: int=1500, layer_3: int=1000, layer_4: int=500,\n",
    "                 dropout: float=0.25,\n",
    "                 lr: float=1.5e-4, weight_decay: float=1e-4):\n",
    "        super().__init__()\n",
    "        \n",
    "        self.lr = lr\n",
    "        self.weight_decay = weight_decay\n",
    "        \n",
    "        self.fc1 = nn.Linear(\n",
    "            in_features=input_size,\n",
    "            out_features=layer_1\n",
    "        )\n",
    "\n",
    "        self.fc2 = nn.Linear(\n",
    "            in_features=layer_1,\n",
    "            out_features=layer_2\n",
    "        )\n",
    "        \n",
    "        self.fc3 = nn.Linear(\n",
    "            in_features=layer_2,\n",
    "            out_features=layer_3\n",
    "        )\n",
    "        \n",
    "        self.fc4 = nn.Linear(\n",
    "            in_features=layer_3,\n",
    "            out_features=layer_4\n",
    "        )\n",
    "\n",
    "        self.fc_out = nn.Linear(\n",
    "            in_features=layer_4,\n",
    "            out_features=11  # Number of regions (in the dataset = 12, originally 14)  # 143 countries\n",
    "        )\n",
    "\n",
    "        self.dropout = nn.Dropout(dropout)\n",
    "        self.batchnorm1 = nn.BatchNorm1d(layer_1)\n",
    "        self.batchnorm2 = nn.BatchNorm1d(layer_2)\n",
    "        self.batchnorm3 = nn.BatchNorm1d(layer_3)\n",
    "        self.batchnorm4 = nn.BatchNorm1d(layer_4)\n",
    "\n",
    "    def forward(self, x):\n",
    "        z = self.fc1(x)\n",
    "        z = F.relu(z)\n",
    "        z = self.batchnorm1(z)\n",
    "        z = self.dropout(z)\n",
    "\n",
    "        z = self.fc2(z)\n",
    "        z = F.relu(z)\n",
    "        z = self.batchnorm2(z)\n",
    "        z = self.dropout(z)\n",
    "        \n",
    "        z = self.fc3(z)\n",
    "        z = F.relu(z)\n",
    "        z = self.batchnorm3(z)\n",
    "        z = self.dropout(z)\n",
    "        \n",
    "        z = self.fc4(z)\n",
    "        z = F.relu(z)\n",
    "        z = self.batchnorm4(z)\n",
    "        z = self.dropout(z)\n",
    "\n",
    "        out = self.fc_out(z)\n",
    "\n",
    "        return out\n",
    "    \n",
    "    def configure_optimizers(self):\n",
    "        optimizer = optim.Adam(self.parameters(), lr=self.lr, weight_decay=self.weight_decay)\n",
    "        return optimizer\n",
    "    \n",
    "\n",
    "    def training_step(self, batch, batch_idx):\n",
    "        x, y = batch\n",
    "        logits = self(x)\n",
    "        loss = F.cross_entropy(logits, y)\n",
    "        acc = accuracy(logits, y)\n",
    "        self.log('train/loss', loss, on_epoch=True)\n",
    "        self.log('train/acc', acc, on_epoch=True)\n",
    "        return loss\n",
    "    \n",
    "    def validation_step(self, val_batch, batch_idx):\n",
    "        x, y = val_batch\n",
    "        logits = self(x)\n",
    "        loss = F.cross_entropy(logits, y)\n",
    "        acc = accuracy(logits, y)\n",
    "        self.log('val/loss', loss, on_epoch=True)\n",
    "        self.log('val/acc', acc, on_epoch=True)\n",
    "        return loss"
   ]
  },
  {
   "cell_type": "markdown",
   "metadata": {},
   "source": [
    "## Load hyperparameters found through optuna"
   ]
  },
  {
   "cell_type": "code",
   "execution_count": null,
   "metadata": {},
   "outputs": [],
   "source": [
    "INPUT_SIZE = 100"
   ]
  },
  {
   "cell_type": "code",
   "execution_count": null,
   "metadata": {},
   "outputs": [],
   "source": [
    "hyperparameters = yaml.load(f'Project/best_hyperparameters/input_{INPUT_SIZE}.yaml')\n",
    "\n",
    "batch_size = hyperparameters['batch_size']\n",
    "layer_1    = hyperparameters['layer_1']\n",
    "layer_2    = hyperparameters['layer_2']\n",
    "layer_3    = hyperparameters['layer_3']\n",
    "layer_4    = hyperparameters['layer_4']\n",
    "dropout    = round(hyperparameters['dropout'], 5)"
   ]
  },
  {
   "cell_type": "markdown",
   "metadata": {},
   "source": [
    "## Prepare data"
   ]
  },
  {
   "cell_type": "code",
   "execution_count": null,
   "metadata": {},
   "outputs": [],
   "source": [
    "x, y, idx_to_country = prepare_data(pcs, meta, num_of_pcs=INPUT_SIZE)\n",
    "train_loader, val_loader = create_dataloaders(x, y, batch_size=batch_size, train_shuffle=True)"
   ]
  },
  {
   "cell_type": "markdown",
   "metadata": {
    "cell_id": "00011-cee7b4e8-d2c3-4e5e-8133-363824d505c1",
    "deepnote_cell_type": "markdown",
    "tags": []
   },
   "source": [
    "### Training using PyTorch Lightning"
   ]
  },
  {
   "cell_type": "code",
   "execution_count": 11,
   "metadata": {
    "cell_id": "00012-ad8d9fb5-ef7f-42f2-b972-d272c07a5dd6",
    "deepnote_cell_type": "code",
    "deepnote_to_be_reexecuted": false,
    "execution_millis": 202107,
    "execution_start": 1636989422422,
    "source_hash": "7770b282",
    "tags": []
   },
   "outputs": [
    {
     "name": "stderr",
     "output_type": "stream",
     "text": [
      "GPU available: True, used: True\n",
      "TPU available: False, using: 0 TPU cores\n",
      "IPU available: False, using: 0 IPUs\n",
      "LOCAL_RANK: 0 - CUDA_VISIBLE_DEVICES: [0]\n",
      "\n",
      "  | Name       | Type        | Params\n",
      "-------------------------------------------\n",
      "0 | fc1        | Linear      | 202 K \n",
      "1 | fc2        | Linear      | 3.0 M \n",
      "2 | fc3        | Linear      | 1.5 M \n",
      "3 | fc4        | Linear      | 500 K \n",
      "4 | fc_out     | Linear      | 6.0 K \n",
      "5 | dropout    | Dropout     | 0     \n",
      "6 | batchnorm1 | BatchNorm1d | 4.0 K \n",
      "7 | batchnorm2 | BatchNorm1d | 3.0 K \n",
      "8 | batchnorm3 | BatchNorm1d | 2.0 K \n",
      "9 | batchnorm4 | BatchNorm1d | 1.0 K \n",
      "-------------------------------------------\n",
      "5.2 M     Trainable params\n",
      "0         Non-trainable params\n",
      "5.2 M     Total params\n",
      "20.884    Total estimated model params size (MB)\n"
     ]
    },
    {
     "data": {
      "application/vnd.jupyter.widget-view+json": {
       "model_id": "",
       "version_major": 2,
       "version_minor": 0
      },
      "text/plain": [
       "Validation sanity check: 0it [00:00, ?it/s]"
      ]
     },
     "metadata": {},
     "output_type": "display_data"
    },
    {
     "name": "stderr",
     "output_type": "stream",
     "text": [
      "d:\\github\\02456-deep-learning\\venv\\lib\\site-packages\\pytorch_lightning\\trainer\\data_loading.py:110: UserWarning: The dataloader, val_dataloader 0, does not have many workers which may be a bottleneck. Consider increasing the value of the `num_workers` argument` (try 4 which is the number of cpus on this machine) in the `DataLoader` init to improve performance.\n",
      "  rank_zero_warn(\n",
      "d:\\github\\02456-deep-learning\\venv\\lib\\site-packages\\pytorch_lightning\\trainer\\data_loading.py:110: UserWarning: The dataloader, train_dataloader, does not have many workers which may be a bottleneck. Consider increasing the value of the `num_workers` argument` (try 4 which is the number of cpus on this machine) in the `DataLoader` init to improve performance.\n",
      "  rank_zero_warn(\n"
     ]
    },
    {
     "data": {
      "application/vnd.jupyter.widget-view+json": {
       "model_id": "cde4c4db7bbb43d19632ded2b3ca4041",
       "version_major": 2,
       "version_minor": 0
      },
      "text/plain": [
       "Training: 0it [00:00, ?it/s]"
      ]
     },
     "metadata": {},
     "output_type": "display_data"
    },
    {
     "data": {
      "application/vnd.jupyter.widget-view+json": {
       "model_id": "",
       "version_major": 2,
       "version_minor": 0
      },
      "text/plain": [
       "Validating: 0it [00:00, ?it/s]"
      ]
     },
     "metadata": {},
     "output_type": "display_data"
    },
    {
     "name": "stderr",
     "output_type": "stream",
     "text": [
      "d:\\github\\02456-deep-learning\\venv\\lib\\site-packages\\pytorch_lightning\\trainer\\trainer.py:685: UserWarning: Detected KeyboardInterrupt, attempting graceful shutdown...\n",
      "  rank_zero_warn(\"Detected KeyboardInterrupt, attempting graceful shutdown...\")\n"
     ]
    }
   ],
   "source": [
    "gpu = 1 if torch.cuda.is_available() else 0\n",
    "\n",
    "wandb_logger = WandbLogger(project='02456DeepLearning_project', name=f'input-{INPUT_SIZE}-with_ancient')\n",
    "\n",
    "trainer = pl.Trainer(\n",
    "    logger=wandb_logger,\n",
    "    # log_every_n_steps=5,\n",
    "    gpus=gpu, \n",
    "    max_epochs=100\n",
    ")\n",
    "    \n",
    "trainer.logger.log_hyperparams(hyperparameters)\n",
    "\n",
    "model = ffnn(input_size=100)\n",
    "trainer.fit(model, train_loader, val_loader)"
   ]
  },
  {
   "cell_type": "code",
   "execution_count": 11,
   "metadata": {
    "cell_id": "00013-c76cb002-ee14-46d8-88d8-e3badbfd4abd",
    "deepnote_cell_type": "code",
    "deepnote_output_heights": [
     155.60000610351562
    ],
    "deepnote_to_be_reexecuted": false,
    "execution_millis": 46,
    "execution_start": 1636989629308,
    "source_hash": "bd081cc1",
    "tags": []
   },
   "outputs": [
    {
     "ename": "NameError",
     "evalue": "name 'trainer' is not defined",
     "output_type": "error",
     "traceback": [
      "\u001b[1;31m---------------------------------------------------------------------------\u001b[0m",
      "\u001b[1;31mNameError\u001b[0m                                 Traceback (most recent call last)",
      "\u001b[1;32m~\\AppData\\Local\\Temp/ipykernel_13468/1527383045.py\u001b[0m in \u001b[0;36m<module>\u001b[1;34m\u001b[0m\n\u001b[1;32m----> 1\u001b[1;33m \u001b[0mtrainer\u001b[0m\u001b[1;33m.\u001b[0m\u001b[0mcallback_metrics\u001b[0m\u001b[1;33m\u001b[0m\u001b[1;33m\u001b[0m\u001b[0m\n\u001b[0m",
      "\u001b[1;31mNameError\u001b[0m: name 'trainer' is not defined"
     ]
    }
   ],
   "source": [
    "trainer.callback_metrics"
   ]
  },
  {
   "cell_type": "code",
   "execution_count": null,
   "metadata": {},
   "outputs": [],
   "source": []
  }
 ],
 "metadata": {
  "deepnote": {
   "is_reactive": false
  },
  "deepnote_execution_queue": [],
  "deepnote_notebook_id": "5e594743-000f-4ba5-a45b-f9a10d5b726f",
  "kernelspec": {
   "display_name": "Python 3 (ipykernel)",
   "language": "python",
   "name": "python3"
  },
  "language_info": {
   "codemirror_mode": {
    "name": "ipython",
    "version": 3
   },
   "file_extension": ".py",
   "mimetype": "text/x-python",
   "name": "python",
   "nbconvert_exporter": "python",
   "pygments_lexer": "ipython3",
   "version": "3.8.10"
  }
 },
 "nbformat": 4,
 "nbformat_minor": 4
}
