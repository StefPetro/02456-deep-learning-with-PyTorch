{
 "cells": [
  {
   "cell_type": "markdown",
   "metadata": {
    "id": "y-CptVs7iACc"
   },
   "source": [
    "# Week 5 - Recurrent Neural Networks\n",
    "\n",
    "In this lab, we will introduce different ways of learning from sequential data.\n",
    "\n",
    "As a recurring example, we will train neural networks to do language modelling, i.e. predict the next token in a sentence. In the context of natural language processing a token could be a character or a word, but mind you that the concepts introduced here apply to all kinds of sequential data, such as e.g. protein sequences, weather measurements, audio signals, or videos, just to name a few.\n",
    "\n",
    "To really get a grasp of what is going on inside a recurrent neural network (RNN), we will carry out a substantial part of this exercise in Nanograd rather than PyTorch. \n",
    "\n",
    "We start off with a simple toy problem, build an RNN using Nanograd, train it, and see for ourselves that it really works. Once we're convinced, you will implement the Long Short-Term Memory (LSTM) cell, also in Nanograd. \n",
    "\n",
    "This is *not* simple but with the DenseLayer class we already have, it is doable. Having done it yourself will help you understand what happens under the hood of the PyTorch code we will use throughout the course.\n",
    "\n",
    "To summarize, in this notebook we will show you:\n",
    "* How to represent sequences of categorical variables\n",
    "* How to build and train an RNN in Nanograd\n",
    "* How to build and train an LSTM network in Nanograd\n",
    "* How to build and train an LSTM network in PyTorch\n",
    "\n",
    "\n",
    "[Numpy version of the Notebook (previous version)](https://github.com/DeepLearningDTU/02456-deep-learning-with-PyTorch/blob/master/5_Recurrent/OLD-5.1-Numpy-Recurrent-Neural-Networks.ipynb)"
   ]
  },
  {
   "cell_type": "markdown",
   "metadata": {
    "id": "XapO8SLwiACd"
   },
   "source": [
    "## Representing tokens or text\n",
    "\n",
    "In previous labs we mainly considered data $x \\in \\mathbb{R}^d$, where $d$ is the feature space dimension.\n",
    "With time sequences our data can be represented as $x \\in \\mathbb{R}^{t \\, \\times \\, d}$, where $t$ is the sequence length. \n",
    "This emphasises sequence dependence and that the samples along the sequence are not independent and identically distributed (i.i.d.).\n",
    "\n",
    "With RNNs, we can model both many-to-one functions: $\\mathbb{R}^{t \\, \\times \\, d} \\rightarrow \\mathbb{R}^c$ and many-to-many functions: $\\mathbb{R}^{t \\, \\times \\, d} \\rightarrow \\mathbb{R}^{t \\, \\times \\, c}$, where $c$ is the amount of classes/output dimensions.\n",
    "\n",
    "There are several ways to represent sequences. With text, the challenge is how to represent a word as a feature vector in $d$ dimensions, as we are required to represent text with decimal numbers in order to apply neural networks to it.\n",
    "\n",
    "In this exercise we will use a simple one-hot encoding but for categorical variables that can take on many values (e.g. words in the English language) this may be infeasible. For such scenarios, you can project the encodings into a smaller space by use of embeddings. If you want to learn more about tokens, encodings and embeddings than what is covered in this exercise, we highly recommend [this lecture](https://www.youtube.com/watch?v=kEMJRjEdNzM&list=PLoROMvodv4rOhcuXMZkNm7j3fVwBBY42z)."
   ]
  },
  {
   "cell_type": "markdown",
   "metadata": {
    "id": "bdA4LPsFiACe"
   },
   "source": [
    "### One-hot encoding over vocabulary\n",
    "\n",
    "One way to represent a fixed amount of words is by making a one-hot encoded vector, which consists of 0s in all cells with the exception of a single 1 in a cell used uniquely to identify each word.\n",
    "\n",
    "| vocabulary    | one-hot encoded vector   |\n",
    "| ------------- |--------------------------|\n",
    "| Paris         | $= [1, 0, 0, \\ldots, 0]$ |\n",
    "| Rome          | $= [0, 1, 0, \\ldots, 0]$ |\n",
    "| Copenhagen    | $= [0, 0, 1, \\ldots, 0]$ |\n",
    "\n",
    "Representing a large vocabulary with one-hot encodings often becomes inefficient because of the size of each sparse vector.\n",
    "To overcome this challenge it is common practice to truncate the vocabulary to contain the $k$ most used words and represent the rest with a special symbol, $\\mathtt{UNK}$, to define unknown/unimportant words.\n",
    "This often causes entities such as names to be represented with $\\mathtt{UNK}$ because they are rare.\n",
    "\n",
    "Consider the following text\n",
    "> I love the corny jokes in Spielberg's new movie.\n",
    "\n",
    "where an example result would be similar to\n",
    "> I love the corny jokes in $\\mathtt{UNK}$'s new movie."
   ]
  },
  {
   "cell_type": "markdown",
   "metadata": {
    "id": "KNmyPw7zk2gY"
   },
   "source": [
    "## Generating a dataset"
   ]
  },
  {
   "cell_type": "markdown",
   "metadata": {
    "id": "M9IEA4t2k2gb"
   },
   "source": [
    "For this exercise we will create a simple dataset that we can learn from. We generate sequences of the form:\n",
    "\n",
    "`a b EOS`,\n",
    "\n",
    "`a a b b EOS`,\n",
    "\n",
    "`a a a a a b b b b b EOS`\n",
    "\n",
    "where `EOS` is a special character denoting the end of a sequence. The task is to predict the next token $t_n$, i.e. `a`, `b`, `EOS` or the unknown token `UNK` given a sequence of tokens $\\{ t_{1}, t_{2}, \\dots , t_{n-1}\\}$, and we are to process sequences in a sequential manner. As such, the network will need to learn that e.g. 5 `b`s and an `EOS` token will follow 5 `a`s."
   ]
  },
  {
   "cell_type": "code",
   "execution_count": 1,
   "metadata": {
    "id": "dcoN-kb7k2gc"
   },
   "outputs": [
    {
     "name": "stdout",
     "output_type": "stream",
     "text": [
      "A single sample from the generated dataset:\n",
      "['a', 'a', 'a', 'b', 'b', 'b', 'EOS']\n"
     ]
    }
   ],
   "source": [
    "import numpy as np\n",
    "\n",
    "# Set seed such that we always get the same dataset\n",
    "# (this is a good idea in general)\n",
    "np.random.seed(42)\n",
    "\n",
    "def generate_dataset(num_sequences=2**5):\n",
    "    \"\"\"\n",
    "    Generates a number of sequences as our dataset.\n",
    "    \n",
    "    Args:\n",
    "     `num_sequences`: the number of sequences to be generated.\n",
    "     \n",
    "    Returns a list of sequences.\n",
    "    \"\"\"\n",
    "    samples = []\n",
    "    \n",
    "    for _ in range(num_sequences): \n",
    "        num_tokens = np.random.randint(1, 4)\n",
    "        sample = ['a'] * num_tokens + ['b'] * num_tokens + ['EOS']\n",
    "        samples.append(sample)\n",
    "        \n",
    "    return samples\n",
    "\n",
    "\n",
    "sequences = generate_dataset()\n",
    "\n",
    "print('A single sample from the generated dataset:')\n",
    "print(sequences[0])"
   ]
  },
  {
   "cell_type": "markdown",
   "metadata": {
    "id": "YMLd3Gzak2gp"
   },
   "source": [
    "## Representing tokens as indices"
   ]
  },
  {
   "cell_type": "markdown",
   "metadata": {
    "id": "S9LSqaJSk2gp"
   },
   "source": [
    "To build a one-hot encoding, we need to assign each possible word in our vocabulary an index. We do that by creating two dictionaries: one that allows us to go from a given word to its corresponding index in our vocabulary, and one for the reverse direction. Let's call them `word_to_idx` and `idx_to_word`. The keyword `vocab_size` specifies the maximum size of our vocabulary. If we try to access a word that does not exist in our vocabulary, it is automatically replaced by the `UNK` token or its corresponding index."
   ]
  },
  {
   "cell_type": "markdown",
   "metadata": {
    "id": "sNY1OOS_k2gy"
   },
   "source": [
    "## Exercise a) Sequence to dictionary function \n",
    "\n",
    "Complete the sequences_to_dicts function below. You will need to fill the word_to_idx and idx_to_word dictionaries so that we can go back and forth between the two representations."
   ]
  },
  {
   "cell_type": "code",
   "execution_count": 2,
   "metadata": {
    "id": "Smdo70UMk2gr"
   },
   "outputs": [
    {
     "name": "stdout",
     "output_type": "stream",
     "text": [
      "We have 32 sentences and 4 unique tokens in our dataset (including UNK).\n",
      "\n",
      "The index of 'b' is 1\n",
      "The word corresponding to index 1 is 'b'\n"
     ]
    }
   ],
   "source": [
    "from collections import defaultdict\n",
    "\n",
    "def sequences_to_dicts(sequences):\n",
    "    \"\"\"\n",
    "    Creates word_to_idx and idx_to_word dictionaries for a list of sequences.\n",
    "    \"\"\"\n",
    "    # A bit of Python-magic to flatten a nested list\n",
    "    flatten = lambda l: [item for sublist in l for item in sublist]\n",
    "    \n",
    "    # Flatten the dataset\n",
    "    all_words = flatten(sequences)\n",
    "    \n",
    "    # Count number of word occurences\n",
    "    word_count = defaultdict(int)\n",
    "    for word in flatten(sequences):\n",
    "        word_count[word] += 1\n",
    "\n",
    "    # Sort by frequency\n",
    "    word_count = sorted(list(word_count.items()), key=lambda l: -l[1])\n",
    "\n",
    "    # Create a list of all unique words\n",
    "    unique_words = [item[0] for item in word_count]\n",
    "    \n",
    "    # Add UNK token to list of words\n",
    "    unique_words.append('UNK')\n",
    "\n",
    "    # Count number of sequences and number of unique words\n",
    "    num_sentences, vocab_size = len(sequences), len(unique_words)\n",
    "\n",
    "    # Create dictionaries so that we can go from word to index and back\n",
    "    # If a word is not in our vocabulary, we assign it to token 'UNK'\n",
    "    word_to_idx = defaultdict(lambda: vocab_size-1)\n",
    "    idx_to_word = defaultdict(lambda: 'UNK')\n",
    "\n",
    "    # Fill dictionaries\n",
    "    for idx, word in enumerate(unique_words):\n",
    "        # YOUR CODE HERE!\n",
    "        word_to_idx[word] = idx\n",
    "        idx_to_word[idx] = word\n",
    "\n",
    "    return word_to_idx, idx_to_word, num_sentences, vocab_size\n",
    "\n",
    "\n",
    "word_to_idx, idx_to_word, num_sequences, vocab_size = sequences_to_dicts(sequences)\n",
    "\n",
    "print(f'We have {num_sequences} sentences and {len(word_to_idx)} unique tokens in our dataset (including UNK).\\n')\n",
    "print('The index of \\'b\\' is', word_to_idx['b'])\n",
    "print(f'The word corresponding to index 1 is \\'{idx_to_word[1]}\\'')\n",
    "\n",
    "assert idx_to_word[word_to_idx['b']] == 'b', \\\n",
    "    'Consistency error: something went wrong in the conversion.'"
   ]
  },
  {
   "cell_type": "markdown",
   "metadata": {
    "id": "cGSoDRgHk2g1"
   },
   "source": [
    "## Partitioning the dataset"
   ]
  },
  {
   "cell_type": "markdown",
   "metadata": {
    "id": "UMTn1iLIk2g1"
   },
   "source": [
    "To build our dataset, we need to create inputs and targets for each sequences and partition sentences it into training, validation and test sets. 80%, 10% and 10% is a common distribution, but mind you that this largely depends on the size of the dataset. Since we are doing next-word predictions, our target sequence is simply the input sequence shifted by one word.\n",
    "\n",
    "We can use PyTorch's `Dataset` class to build a simple dataset where we can easily retrieve (inputs, targets) pairs for each of our sequences."
   ]
  },
  {
   "cell_type": "code",
   "execution_count": 3,
   "metadata": {
    "id": "9dW7MrPnk2g3"
   },
   "outputs": [
    {
     "name": "stdout",
     "output_type": "stream",
     "text": [
      "We have 25 samples in the training set.\n",
      "We have 3 samples in the validation set.\n",
      "We have 3 samples in the test set.\n"
     ]
    }
   ],
   "source": [
    "from torch.utils import data\n",
    "\n",
    "class Dataset(data.Dataset):\n",
    "    def __init__(self, inputs, targets):\n",
    "        self.inputs = inputs\n",
    "        self.targets = targets\n",
    "\n",
    "    def __len__(self):\n",
    "        # Return the size of the dataset\n",
    "        return len(self.targets)\n",
    "\n",
    "    def __getitem__(self, index):\n",
    "        # Retrieve inputs and targets at the given index\n",
    "        X = self.inputs[index]\n",
    "        y = self.targets[index]\n",
    "\n",
    "        return X, y\n",
    "\n",
    "    \n",
    "def create_datasets(sequences, dataset_class, p_train=0.8, p_val=0.1, p_test=0.1):\n",
    "    # Define partition sizes\n",
    "    num_train = int(len(sequences)*p_train)\n",
    "    num_val = int(len(sequences)*p_val)\n",
    "    num_test = int(len(sequences)*p_test)\n",
    "\n",
    "    # Split sequences into partitions\n",
    "    sequences_train = sequences[:num_train]\n",
    "    sequences_val = sequences[num_train:num_train+num_val]\n",
    "    sequences_test = sequences[-num_test:]\n",
    "\n",
    "    def get_inputs_targets_from_sequences(sequences):\n",
    "        # Define empty lists\n",
    "        inputs, targets = [], []\n",
    "        \n",
    "        # Append inputs and targets s.t. both lists contain L-1 words of a sentence of length L\n",
    "        # but targets are shifted right by one so that we can predict the next word\n",
    "        for sequence in sequences:\n",
    "            inputs.append(sequence[:-1])\n",
    "            targets.append(sequence[1:])\n",
    "            \n",
    "        return inputs, targets\n",
    "\n",
    "    # Get inputs and targets for each partition\n",
    "    inputs_train, targets_train = get_inputs_targets_from_sequences(sequences_train)\n",
    "    inputs_val, targets_val = get_inputs_targets_from_sequences(sequences_val)\n",
    "    inputs_test, targets_test = get_inputs_targets_from_sequences(sequences_test)\n",
    "\n",
    "    # Create datasets\n",
    "    training_set = dataset_class(inputs_train, targets_train)\n",
    "    validation_set = dataset_class(inputs_val, targets_val)\n",
    "    test_set = dataset_class(inputs_test, targets_test)\n",
    "\n",
    "    return training_set, validation_set, test_set\n",
    "    \n",
    "\n",
    "training_set, validation_set, test_set = create_datasets(sequences, Dataset)\n",
    "\n",
    "print(f'We have {len(training_set)} samples in the training set.')\n",
    "print(f'We have {len(validation_set)} samples in the validation set.')\n",
    "print(f'We have {len(test_set)} samples in the test set.')"
   ]
  },
  {
   "cell_type": "markdown",
   "metadata": {
    "id": "4xMMSm7Mk2g9"
   },
   "source": [
    "When working with more complex data than what we use in this exercise, creating a PyTorch `DataLoader` on top of the dataset can be beneficial. A data loader is basically a fancy generator/iterator that we can use to abstract away all of the data handling and pre-processing + it's super useful for processing batches of data as well! Data loaders will come in handy later when you start to work on your projects, so be sure to check them out!\n",
    "\n",
    "For more information on how to use datasets and data loaders in PyTorch, [consult the official guide](https://pytorch.org/tutorials/beginner/data_loading_tutorial.html)."
   ]
  },
  {
   "cell_type": "markdown",
   "metadata": {
    "id": "t-rfgDfZeMQ6"
   },
   "source": [
    "## Nanograd utilities"
   ]
  },
  {
   "cell_type": "markdown",
   "metadata": {
    "id": "oRO5ssg0eQMK"
   },
   "source": [
    "We load necessary utility functions for the Nanograd library, which we saw in Lab 2."
   ]
  },
  {
   "cell_type": "code",
   "execution_count": 4,
   "metadata": {
    "id": "Jd4CoEBNzNWS"
   },
   "outputs": [],
   "source": [
    "# Copy and pasted from https://github.com/rasmusbergpalm/nanograd/blob/main/nanograd.py\n",
    "\n",
    "from math import exp, log, tanh\n",
    "\n",
    "class Var:\n",
    "    \"\"\"\n",
    "    A variable which holds a float and enables gradient computations.\n",
    "    \"\"\"\n",
    "\n",
    "    def __init__(self, val: float, grad_fn=lambda: []):\n",
    "        assert type(val) == float\n",
    "        self.v = val\n",
    "        self.grad_fn = grad_fn\n",
    "        self.grad = 0.0\n",
    "\n",
    "    def backprop(self, bp):\n",
    "        self.grad += bp\n",
    "        for input, grad in self.grad_fn():\n",
    "            input.backprop(grad * bp)\n",
    "\n",
    "    def backward(self):\n",
    "        self.backprop(1.0)\n",
    "\n",
    "    def __add__(self: 'Var', other: 'Var') -> 'Var':\n",
    "        return Var(self.v + other.v, lambda: [(self, 1.0), (other, 1.0)])\n",
    "\n",
    "    def __mul__(self: 'Var', other: 'Var') -> 'Var':\n",
    "        return Var(self.v * other.v, lambda: [(self, other.v), (other, self.v)])\n",
    "\n",
    "    def __pow__(self, power):\n",
    "        assert type(power) in {float, int}, \"power must be float or int\"\n",
    "        return Var(self.v ** power, lambda: [(self, power * self.v ** (power - 1))])\n",
    "\n",
    "    def __neg__(self: 'Var') -> 'Var':\n",
    "        return Var(-1.0) * self\n",
    "\n",
    "    def __sub__(self: 'Var', other: 'Var') -> 'Var':\n",
    "        return self + (-other)\n",
    "\n",
    "    def __truediv__(self: 'Var', other: 'Var') -> 'Var':\n",
    "        return self * other ** -1\n",
    "\n",
    "    def __repr__(self):\n",
    "        return \"Var(v=%.4f, grad=%.4f)\" % (self.v, self.grad)\n",
    "    \n",
    "    def exp(self):\n",
    "        return Var(exp(self.v), lambda: [(self, exp(self.v))])\n",
    "    \n",
    "    def log(self):\n",
    "        return Var(log(self.v), lambda: [(self, self.v ** -1)])\n",
    "\n",
    "    def relu(self):\n",
    "        return Var(self.v if self.v > 0.0 else 0.0, lambda: [(self, 1.0 if self.v > 0.0 else 0.0)])\n",
    "    \n",
    "    def identity(self):\n",
    "        return self\n",
    "\n",
    "    def sigmoid(self):\n",
    "        return Var(0.5) * (Var(1.0) + (Var(0.5) * self).tanh()) # logistic function is a scaled and shifted version of tanh\n",
    "    \n",
    "    def tanh(self):\n",
    "        return Var(tanh(self.v), lambda: [(self, 1-tanh(self.v) ** 2)])"
   ]
  },
  {
   "cell_type": "code",
   "execution_count": 5,
   "metadata": {
    "id": "9AMqMsiseMfz"
   },
   "outputs": [],
   "source": [
    "# convert from ndarray to Var\n",
    "def nparray_to_Var(x):\n",
    "    if x.ndim==1:\n",
    "        y = [[Var(float(x[i]))] for i in range(x.shape[0])] # always work with list of list\n",
    "    else:\n",
    "        y = [[Var(float(x[i,j])) for j in range(x.shape[1])] for i in range(x.shape[0])]\n",
    "    return y\n",
    "\n",
    "# convert from Var to ndarray  \n",
    "def Var_to_nparray(x):\n",
    "    try:\n",
    "        y = np.zeros((len(x),len(x[0])))\n",
    "        for i in range(len(x)):\n",
    "            for j in range(len(x[0])):\n",
    "                y[i,j] = x[i][j].v\n",
    "    except TypeError:\n",
    "        y = np.zeros((len(x)))\n",
    "        for i in range(len(x)):\n",
    "            y[i] = x[i].v\n",
    "\n",
    "    return y"
   ]
  },
  {
   "cell_type": "code",
   "execution_count": 6,
   "metadata": {
    "id": "ij_ieRsAt7Xt"
   },
   "outputs": [],
   "source": [
    "class Initializer:\n",
    "\n",
    "    def init_weights(self, n_in, n_out):\n",
    "        raise NotImplementedError\n",
    "\n",
    "    def init_bias(self, n_out):\n",
    "        raise NotImplementedError"
   ]
  },
  {
   "cell_type": "code",
   "execution_count": 7,
   "metadata": {
    "id": "eb18N5phuIha"
   },
   "outputs": [],
   "source": [
    "import random\n",
    "\n",
    "class NormalInitializer(Initializer):\n",
    "\n",
    "    def __init__(self, mean=0, std=0.1):\n",
    "        self.mean = mean\n",
    "        self.std = std\n",
    "\n",
    "    def init_weights(self, n_in, n_out):\n",
    "        return [[Var(random.gauss(self.mean, self.std)) for _ in range(n_out)] for _ in range(n_in)]\n",
    "\n",
    "    def init_bias(self, n_out):\n",
    "        return [Var(0.0) for _ in range(n_out)]\n",
    "\n",
    "class ConstantInitializer(Initializer):\n",
    "\n",
    "    def __init__(self, weight=1.0, bias=0.0):\n",
    "        self.weight = weight\n",
    "        self.bias = bias\n",
    "\n",
    "    def init_weights(self, n_in, n_out):\n",
    "        return [[Var(self.weight) for _ in range(n_out)] for _ in range(n_in)]\n",
    "\n",
    "    def init_bias(self, n_out):\n",
    "        return [Var(self.bias) for _ in range(n_out)]"
   ]
  },
  {
   "cell_type": "markdown",
   "metadata": {
    "id": "Dzmryk72k2g-"
   },
   "source": [
    "## One-hot encodings"
   ]
  },
  {
   "cell_type": "markdown",
   "metadata": {
    "id": "abRN9f8Xk2g_"
   },
   "source": [
    "We now create a simple function that returns the one-hot encoded representation of a given index of a word in our vocabulary. Notice that the shape of the one-hot encoding is equal to the entire vocabulary (which can be huge!). Additionally, we define a function to automatically one-hot encode a sentence."
   ]
  },
  {
   "cell_type": "code",
   "execution_count": 8,
   "metadata": {
    "id": "IZruCIHJk2hB"
   },
   "outputs": [
    {
     "name": "stdout",
     "output_type": "stream",
     "text": [
      "Our one-hot encoding of 'a' has shape (1, 4).\n",
      "Our one-hot encoding of 'a b' has shape (2, 4).\n",
      "[[Var(v=1.0000, grad=0.0000), Var(v=0.0000, grad=0.0000), Var(v=0.0000, grad=0.0000), Var(v=0.0000, grad=0.0000)]]\n",
      "[[Var(v=1.0000, grad=0.0000), Var(v=0.0000, grad=0.0000), Var(v=0.0000, grad=0.0000), Var(v=0.0000, grad=0.0000)], [Var(v=0.0000, grad=0.0000), Var(v=1.0000, grad=0.0000), Var(v=0.0000, grad=0.0000), Var(v=0.0000, grad=0.0000)]]\n"
     ]
    }
   ],
   "source": [
    "def one_hot_encode(idx, vocab_size):\n",
    "    \"\"\"\n",
    "    One-hot encodes a single word given its index and the size of the vocabulary.\n",
    "    \n",
    "    Args:\n",
    "     `idx`: the index of the given word\n",
    "     `vocab_size`: the size of the vocabulary\n",
    "    \n",
    "    Returns a 1-D numpy array of length `vocab_size`.\n",
    "    \"\"\"\n",
    "    # Initialize the encoded array\n",
    "    one_hot = np.array([np.zeros(vocab_size)])\n",
    "    \n",
    "    # Set the appropriate element to one\n",
    "    one_hot[0][idx] = 1.0\n",
    "    return nparray_to_Var(one_hot)\n",
    "\n",
    "\n",
    "def one_hot_encode_sequence(sequence, vocab_size):\n",
    "    \"\"\"\n",
    "    One-hot encodes a sequence of words given a fixed vocabulary size.\n",
    "    \n",
    "    Args:\n",
    "     `sentence`: a list of words to encode\n",
    "     `vocab_size`: the size of the vocabulary\n",
    "     \n",
    "    Returns a 3-D numpy array of shape (num words, vocab size, 1).\n",
    "    \"\"\"\n",
    "    # Encode each word in the sentence\n",
    "    encoding = np.array([Var_to_nparray(one_hot_encode(word_to_idx[word], vocab_size)) for word in sequence])\n",
    "\n",
    "    # Reshape encoding s.t. it has shape (num words, vocab size, 1)\n",
    "    encoding = encoding.reshape(encoding.shape[0], encoding.shape[2], 1)\n",
    "    return nparray_to_Var(encoding)\n",
    "\n",
    "test_word = one_hot_encode(word_to_idx['a'], vocab_size)\n",
    "print(f'Our one-hot encoding of \\'a\\' has shape {Var_to_nparray(test_word).shape}.')\n",
    "\n",
    "test_sentence = one_hot_encode_sequence(['a', 'b'], vocab_size)\n",
    "print(f'Our one-hot encoding of \\'a b\\' has shape {Var_to_nparray(test_sentence).shape}.')\n",
    "\n",
    "print(test_word)\n",
    "print(test_sentence)"
   ]
  },
  {
   "cell_type": "code",
   "execution_count": 9,
   "metadata": {
    "id": "JT6BqYrU_NxQ"
   },
   "outputs": [],
   "source": [
    "encoded_training_set_x = []\n",
    "encoded_training_set_y = []\n",
    "encoded_validation_set_x = []\n",
    "encoded_validation_set_y = []\n",
    "encoded_test_set_x = []\n",
    "encoded_test_set_y = []\n",
    "\n",
    "for n in range(len(training_set)):\n",
    "    encoded_training_set_x.append(one_hot_encode_sequence(training_set[n][0], vocab_size))\n",
    "    encoded_training_set_y.append(one_hot_encode_sequence(training_set[n][1], vocab_size))\n",
    "for n in range(len(validation_set)):\n",
    "    encoded_validation_set_x.append(one_hot_encode_sequence(validation_set[n][0], vocab_size))\n",
    "    encoded_validation_set_y.append(one_hot_encode_sequence(validation_set[n][1], vocab_size))\n",
    "for n in range(len(test_set)):\n",
    "    encoded_test_set_x.append(one_hot_encode_sequence(test_set[n][0], vocab_size))\n",
    "    encoded_test_set_y.append(one_hot_encode_sequence(test_set[n][1], vocab_size))"
   ]
  },
  {
   "cell_type": "markdown",
   "metadata": {
    "id": "erI_MXvKk2hG"
   },
   "source": [
    "Great! Now that we have our one-hot encodings in place, we can move on to the RNNs!"
   ]
  },
  {
   "cell_type": "markdown",
   "metadata": {
    "id": "MA6bxjGWjeSB"
   },
   "source": [
    "# Introduction to Recurrent Neural Networks (RNN)\n",
    "\n",
    "Reading material: [blog post](http://karpathy.github.io/2015/05/21/rnn-effectiveness/) and (optionally) [this lecture](https://www.youtube.com/watch?v=iWea12EAu6U&list=PLoROMvodv4rOhcuXMZkNm7j3fVwBBY42z).\n",
    "\n",
    "___\n",
    "\n",
    "A recurrent neural network (RNN) is a type of neural network that has been succesful in modelling sequential data, e.g. language, speech, protein sequences, etc.\n",
    "\n",
    "A RNN performs its computations in a cyclic manner, where the same computation is applied to every sample of a given sequence.\n",
    "The idea is that the network should be able to use the previous computations as some form of memory and apply this to future computations.\n",
    "An image may best explain how this is to be understood,\n",
    "\n",
    "![rnn-unroll image](https://github.com/DeepLearningDTU/02456-deep-learning-with-PyTorch/blob/master/static_files/rnn-unfold.png?raw=1)\n",
    "\n",
    "\n",
    "where it the network contains the following elements:\n",
    "\n",
    "- $x$ is the input sequence of samples, \n",
    "- $U$ is a weight matrix applied to the given input sample,\n",
    "- $V$ is a weight matrix used for the recurrent computation in order to pass memory along the sequence,\n",
    "- $W$ is a weight matrix used to compute the output of the every timestep (given that every timestep requires an output),\n",
    "- $h$ is the hidden state (the network's memory) for a given time step, and\n",
    "- $o$ is the resulting output.\n",
    "\n",
    "When the network is unrolled as shown, it is easier to refer to a timestep, $t$.\n",
    "We have the following computations through the network:\n",
    "\n",
    "- $h_t = f(U\\,{x_t} + V\\,{h_{t-1}})$, where $f$ is a non-linear activation function, e.g. $\\mathrm{tanh}$.\n",
    "- $o_t = W\\,{h_t}$\n",
    "\n",
    "When we are doing language modelling using a cross-entropy loss, we additionally apply the softmax function to the output $o_{t}$:\n",
    "\n",
    "- $\\hat{y}_t = \\mathrm{softmax}(o_{t})$\n",
    "\n",
    "\n",
    "### Backpropagation through time\n",
    "\n",
    "We define a loss function\n",
    "\n",
    "- $E = \\sum_t E_t  = \\sum_t E_t(y_t ,\\hat{y}_t ) \\ , $\n",
    "\n",
    "where $E_t(y_t ,\\hat{y}_t )$ is the cross-entropy function.\n",
    "\n",
    "Backpropagation through time amounts to computing the gradients of the loss using the same type of clever bookkeeping we applied to the feed-forward network in week 1. This you will do in Exercise D."
   ]
  },
  {
   "cell_type": "markdown",
   "metadata": {
    "id": "GuvwbvsGz9KE"
   },
   "source": [
    "## Implementing an RNN\n",
    "\n",
    "We will implement the forward pass, backward pass, optimization and training loop for an RNN in Nanograd so that you can get familiar with the recurrent nature of RNNs. Later, we will go back to PyTorch."
   ]
  },
  {
   "cell_type": "markdown",
   "metadata": {
    "id": "gfbfcB-NJZuM"
   },
   "source": [
    "We define the Nanograd DenseLayer class from [lab 2](https://github.com/DeepLearningDTU/02456-deep-learning-with-PyTorch/blob/master/2_Feedforward_Python/2.1-EXE-FNN-AutoDif-Nanograd.ipynb) with a few additions:\n",
    "* the option use_bias to define a layer without bias. This is useful when we define the recurrent layer and\n",
    "* a method forward_sequence which is useful when a DenseLayer is used as part of a recurrent neural network"
   ]
  },
  {
   "cell_type": "code",
   "execution_count": 10,
   "metadata": {
    "id": "TqkVyEEACHKS"
   },
   "outputs": [],
   "source": [
    "from typing import Sequence\n",
    "\n",
    "class DenseLayer:\n",
    "    def __init__(self, n_in: int, n_out: int, act_fn, initializer = NormalInitializer(), use_bias=True):\n",
    "        self.weights = initializer.init_weights(n_in, n_out)\n",
    "        self.use_bias = use_bias\n",
    "        if use_bias:\n",
    "            self.bias = initializer.init_bias(n_out)\n",
    "        self.act_fn = act_fn\n",
    "    \n",
    "    def __repr__(self):    \n",
    "        return 'Weights: ' + repr(self.weights) + (' Biases: ' + repr(self.bias) if self.use_bias else '')\n",
    "\n",
    "    def parameters(self) -> Sequence[Var]:\n",
    "        params = []\n",
    "        for r in self.weights:\n",
    "            params += r\n",
    "\n",
    "        if self.use_bias:\n",
    "            params += self.bias\n",
    "\n",
    "        return params\n",
    "\n",
    "    def forward(self, input: Sequence[Var]) -> Sequence[Var]:\n",
    "        # self.weights is a matrix with dimension n_in x n_out. We check that the dimensionality of the input \n",
    "        # to the current layer matches the number of nodes in the current layer\n",
    "        assert len(self.weights) == len(input), \"weights and input must match in first dimension\"\n",
    "        weights = self.weights\n",
    "        out = []\n",
    "        # For some given data point single_input, we now want to calculate the resulting value in each node in the current layer\n",
    "        # We therefore loop over the (number of) nodes in the current layer:\n",
    "        for j in range(len(weights[0])): \n",
    "            # Initialize the node value depending on its corresponding parameters.\n",
    "            node = self.bias[j] if self.use_bias else Var(0.0)\n",
    "            # We now finish the linear transformation corresponding to the parameters of the currently considered node.\n",
    "            for i in range(len(input)):\n",
    "                node += input[i]*weights[i][j]\n",
    "            node = self.act_fn(node)\n",
    "            out.append(node)\n",
    "\n",
    "        return out\n",
    "    \n",
    "    def forward_sequence(self, input: Sequence[Sequence[Var]]) -> Sequence[Sequence[Var]]:\n",
    "        out = []\n",
    "        for i in range(len(input)): \n",
    "            node = self.forward(input[i])\n",
    "            out.append(node)\n",
    "\n",
    "        return out"
   ]
  },
  {
   "cell_type": "markdown",
   "metadata": {
    "id": "qDKFjjQEM-xX"
   },
   "source": [
    "## Exercise b) The RNNLayer class\n",
    "\n",
    "Complete the RNNLayer class below.\n",
    "\n",
    "Explain how we reuse the DenseLayer class.\n",
    "\n",
    "Explain what the forward and the forward_sequence method do."
   ]
  },
  {
   "cell_type": "markdown",
   "metadata": {},
   "source": [
    "### Answer:\n",
    "\n",
    "> Explain how we reuse the DenseLayer class.\n",
    "\n",
    "We reuse the `DenseLayer`s to create the input hidden layer and the hidden layer. The hidden layer (`hid_hid_layer`) is defined as a `DenseLayer` without bias, as the bias is already represented through the `in_hid_layer`.\n",
    "\n",
    "> Explain what the forward_step and the forward_sequence method do.\n",
    "\n",
    "The `forward_step` calculates the forward step for a single input, while the forward sequence does to for a whole dataset."
   ]
  },
  {
   "cell_type": "code",
   "execution_count": 11,
   "metadata": {
    "id": "IcM1N6PQrT7l"
   },
   "outputs": [],
   "source": [
    "from typing import Sequence\n",
    "\n",
    "class RNNLayer:\n",
    "    def __init__(self, n_in: int, n_hid: int, act_fn, initializer = NormalInitializer(), initializer_hid = NormalInitializer()):\n",
    "        self.n_hid = n_hid\n",
    "        self.in_hid_layer = DenseLayer(n_in, n_hid, lambda x: x, initializer)\n",
    "        self.hid_hid_layer = DenseLayer (n_hid, n_hid, lambda x: x, initializer_hid, use_bias=False) # we already get a bias through in_hid_layer        \n",
    "        self.initial_hid = [Var(0.0) for _ in range(n_hid)]\n",
    "        self.stored_hid = [Var(0.0) for _ in range(n_hid)]\n",
    "        self.act_fn = act_fn\n",
    "    \n",
    "    def __repr__(self):    \n",
    "        return 'Feed-forward: ' + repr(self.in_hid_layer) + ' Recurrent: ' + repr(self.hid_hid_layer) + ' Initial hidden: ' + repr(self.initial_hid)\n",
    "\n",
    "    def parameters(self) -> Sequence[Var]:      \n",
    "        return self.in_hid_layer.parameters() + self.hid_hid_layer.parameters() + self.initial_hid\n",
    "\n",
    "    def forward_step(self, input: Sequence[Var], input_hid: Sequence[Var]) -> Sequence[Var]:\n",
    "        in_hids = self.in_hid_layer.forward(input)    # contribution from input\n",
    "        hid_hids = self.hid_hid_layer.forward(input_hid)  # contribution from hidden state\n",
    "\n",
    "        hids = []\n",
    "        for i in range(self.n_hid):\n",
    "            hids.append(self.act_fn(in_hids[i] + hid_hids[i]))\n",
    "\n",
    "        return hids\n",
    "    \n",
    "    def forward_sequence(self, input: Sequence[Sequence[Var]], use_stored_hid = False) -> Sequence[Sequence[Var]]:\n",
    "        out = []\n",
    "        if use_stored_hid:\n",
    "            hid = self.stored_hid\n",
    "        else:\n",
    "            hid = self.initial_hid\n",
    "        # Takes a sequence and loops over each character in the sequence. Note that each character has dimension equal to the embedding dimension\n",
    "        for i in range(len(input)):\n",
    "            hid = self.forward_step(input[i], hid)\n",
    "            out.append(hid)\n",
    "        self.stored_hid = hid\n",
    "        return out"
   ]
  },
  {
   "cell_type": "markdown",
   "metadata": {
    "id": "VgAU6qPHKJFr"
   },
   "source": [
    "Now we can define a network and pass some data through it."
   ]
  },
  {
   "cell_type": "code",
   "execution_count": 12,
   "metadata": {
    "id": "MFkZ5gNG6d7c"
   },
   "outputs": [
    {
     "name": "stdout",
     "output_type": "stream",
     "text": [
      "Feed-forward: Weights: [[Var(v=-0.0124, grad=0.0000), Var(v=-0.1679, grad=0.0000), Var(v=0.0366, grad=0.0000), Var(v=-0.1682, grad=0.0000), Var(v=-0.1476, grad=0.0000)]] Biases: [Var(v=0.0000, grad=0.0000), Var(v=0.0000, grad=0.0000), Var(v=0.0000, grad=0.0000), Var(v=0.0000, grad=0.0000), Var(v=0.0000, grad=0.0000)] Recurrent: Weights: [[Var(v=-0.0229, grad=0.0000), Var(v=-0.0221, grad=0.0000), Var(v=0.0475, grad=0.0000), Var(v=-0.0165, grad=0.0000), Var(v=0.0554, grad=0.0000)], [Var(v=-0.1359, grad=0.0000), Var(v=-0.0546, grad=0.0000), Var(v=-0.2262, grad=0.0000), Var(v=-0.0302, grad=0.0000), Var(v=-0.1364, grad=0.0000)], [Var(v=-0.2012, grad=0.0000), Var(v=-0.0386, grad=0.0000), Var(v=-0.0826, grad=0.0000), Var(v=-0.0499, grad=0.0000), Var(v=-0.0777, grad=0.0000)], [Var(v=-0.1763, grad=0.0000), Var(v=0.0183, grad=0.0000), Var(v=0.0113, grad=0.0000), Var(v=-0.0706, grad=0.0000), Var(v=-0.1791, grad=0.0000)], [Var(v=0.1209, grad=0.0000), Var(v=0.0798, grad=0.0000), Var(v=-0.0212, grad=0.0000), Var(v=-0.0789, grad=0.0000), Var(v=-0.1615, grad=0.0000)]] Initial hidden: [Var(v=0.0000, grad=0.0000), Var(v=0.0000, grad=0.0000), Var(v=0.0000, grad=0.0000), Var(v=0.0000, grad=0.0000), Var(v=0.0000, grad=0.0000)]\n",
      "[[[Var(v=0.0026, grad=1.0000)], [Var(v=0.0004, grad=0.0000)], [Var(v=-0.0003, grad=0.0000)]], [[Var(v=0.0026, grad=0.0000)], [Var(v=0.0004, grad=0.0000)], [Var(v=-0.0003, grad=0.0000)]]]\n"
     ]
    }
   ],
   "source": [
    "NN = [\n",
    "    RNNLayer(1, 5, lambda x: x.tanh()),\n",
    "    DenseLayer(5, 1, lambda x: x.identity())\n",
    "]\n",
    "\n",
    "def forward_batch(input: Sequence[Sequence[Sequence[Var]]], network, use_stored_hid=False):\n",
    "  \n",
    "    def forward_single_sequence(x, network, use_stored_hid):\n",
    "        for layer in network:\n",
    "            if isinstance(layer, RNNLayer):\n",
    "                x = layer.forward_sequence(x, use_stored_hid) \n",
    "            else:\n",
    "                x = layer.forward_sequence(x)\n",
    "        return x\n",
    "\n",
    "    output = [ forward_single_sequence(input[n], network, use_stored_hid) for n in range(len(input))]\n",
    "    return output\n",
    "\n",
    "print(NN[0])\n",
    "x_train =[\n",
    "          [[Var(1.0)], [Var(2.0)], [Var(3.0)]],\n",
    "          [[Var(1.0)], [Var(2.0)], [Var(3.0)]]\n",
    "          ]\n",
    "\n",
    "output_train = forward_batch(x_train, NN)          \n",
    "output_train[0][0][0].backward()\n",
    "\n",
    "print(output_train)"
   ]
  },
  {
   "cell_type": "markdown",
   "metadata": {
    "id": "yolo5dKrk2hR"
   },
   "source": [
    "## Exercise c) Unit test\n",
    "\n",
    "Make unit tests to make sure that the output and the backward method work as it should.\n",
    "\n",
    "NOTE: The .backward() call above simply backpropagates a value in the output (and not a loss). Below, we will extend our loss functions to be able to handle backpropagation through time.\n",
    "\n",
    "Recycling code from [Lab 2](https://github.com/DeepLearningDTU/02456-deep-learning-with-PyTorch/blob/master/2_Feedforward_Python/2.1-EXE-FNN-AutoDif-Nanograd.ipynb) is fine. "
   ]
  },
  {
   "cell_type": "code",
   "execution_count": 13,
   "metadata": {
    "id": "GhCB1ASwK3X7"
   },
   "outputs": [
    {
     "name": "stdout",
     "output_type": "stream",
     "text": [
      "[[[Var(v=0.0062, grad=0.0000)], [Var(v=0.0150, grad=0.0000)], [Var(v=0.0254, grad=0.0000)]], [[Var(v=0.0062, grad=0.0000)], [Var(v=0.0150, grad=0.0000)], [Var(v=0.0254, grad=0.0000)]]]\n",
      "\n",
      "[[[Var(v=0.0062, grad=1.0000)], [Var(v=0.0150, grad=0.0000)], [Var(v=0.0254, grad=0.0000)]], [[Var(v=0.0062, grad=0.0000)], [Var(v=0.0150, grad=0.0000)], [Var(v=0.0254, grad=0.0000)]]]\n"
     ]
    }
   ],
   "source": [
    "simple_N = [\n",
    "    RNNLayer(1, 5, lambda x: x.identity()),\n",
    "    DenseLayer(5, 1, lambda x: x.identity())\n",
    "]\n",
    "\n",
    "x_train =[\n",
    "          [[Var(1.0)], [Var(2.0)], [Var(3.0)]],\n",
    "          [[Var(1.0)], [Var(2.0)], [Var(3.0)]]\n",
    "          ]\n",
    "\n",
    "def simple_test(inp, network):\n",
    "    output = forward_batch(inp, network)\n",
    "    # Checking of the output are of same length as the input\n",
    "    assert (len(output) == len(inp)) & (len(output[0]) == len(inp[0]))\n",
    "    print(output)\n",
    "    output[0][0][0].backward()\n",
    "    print()\n",
    "    print(output)\n",
    "\n",
    "\n",
    "simple_test(x_train, simple_N)"
   ]
  },
  {
   "cell_type": "markdown",
   "metadata": {
    "id": "4d4_2b6mK5jH"
   },
   "source": [
    "## Exercise d) Advanced initialization\n",
    "\n",
    "How can we use He initialization for the recurrent layer?\n",
    "\n",
    "Hint: the sum of two unit variance stochastic variables have variance 2.\n",
    "\n",
    "Insert code for He initialization of the recurrent layer. Again, recycling code from Lab 2 is fine. "
   ]
  },
  {
   "cell_type": "code",
   "execution_count": 14,
   "metadata": {
    "id": "oRn3mDnzLxu2"
   },
   "outputs": [],
   "source": [
    "## He\n",
    "def DenseLayer_He_tanh(n_in: int, n_out: int):\n",
    "    alpha = 1\n",
    "    std = np.sqrt(alpha/(n_in+n_out)) # <- replace with proper initialization \n",
    "    return DenseLayer(n_in, n_out, lambda x: x.tanh(), initializer = NormalInitializer(std))"
   ]
  },
  {
   "cell_type": "markdown",
   "metadata": {
    "id": "ozNN9xXML0yc"
   },
   "source": [
    "## Exercise e) Sequence loss function\n",
    "\n",
    "We want to solve a sequence to sequence problem. So you need a sequence loss function. \n",
    "\n",
    "Implement the function such that the sequence loss can take flexible input dimensions and so that it can take any loss as an argument, such as squared loss and cross entropy. (We recommend using cross entropy below)\n",
    "\n",
    "We have provided a bit of code to try it out.\n",
    "\n",
    "Hints: You can get inspiration from the forward_sequence method above. You can copy and paste squared loss and cross entropy from Lab 2. "
   ]
  },
  {
   "cell_type": "code",
   "execution_count": 15,
   "metadata": {
    "id": "bYpEnbeMP4yL"
   },
   "outputs": [
    {
     "name": "stdout",
     "output_type": "stream",
     "text": [
      "[[[Var(v=-0.0021, grad=0.0000), Var(v=0.0086, grad=0.0000), Var(v=0.0130, grad=0.0000), Var(v=-0.0080, grad=0.0000)], [Var(v=-0.0028, grad=0.0000), Var(v=0.0073, grad=0.0000), Var(v=0.0124, grad=0.0000), Var(v=-0.0087, grad=0.0000)], [Var(v=-0.0029, grad=0.0000), Var(v=0.0072, grad=0.0000), Var(v=0.0125, grad=0.0000), Var(v=-0.0088, grad=0.0000)], [Var(v=-0.0042, grad=0.0000), Var(v=-0.0110, grad=0.0000), Var(v=-0.0073, grad=0.0000), Var(v=-0.0032, grad=0.0000)], [Var(v=-0.0039, grad=0.0000), Var(v=-0.0100, grad=0.0000), Var(v=-0.0065, grad=0.0000), Var(v=-0.0031, grad=0.0000)], [Var(v=-0.0039, grad=0.0000), Var(v=-0.0100, grad=0.0000), Var(v=-0.0066, grad=0.0000), Var(v=-0.0030, grad=0.0000)]], [[Var(v=-0.0021, grad=0.0000), Var(v=0.0086, grad=0.0000), Var(v=0.0130, grad=0.0000), Var(v=-0.0080, grad=0.0000)], [Var(v=-0.0041, grad=0.0000), Var(v=-0.0109, grad=0.0000), Var(v=-0.0073, grad=0.0000), Var(v=-0.0031, grad=0.0000)]], [[Var(v=-0.0021, grad=0.0000), Var(v=0.0086, grad=0.0000), Var(v=0.0130, grad=0.0000), Var(v=-0.0080, grad=0.0000)], [Var(v=-0.0028, grad=0.0000), Var(v=0.0073, grad=0.0000), Var(v=0.0124, grad=0.0000), Var(v=-0.0087, grad=0.0000)], [Var(v=-0.0029, grad=0.0000), Var(v=0.0072, grad=0.0000), Var(v=0.0125, grad=0.0000), Var(v=-0.0088, grad=0.0000)], [Var(v=-0.0042, grad=0.0000), Var(v=-0.0110, grad=0.0000), Var(v=-0.0073, grad=0.0000), Var(v=-0.0032, grad=0.0000)], [Var(v=-0.0039, grad=0.0000), Var(v=-0.0100, grad=0.0000), Var(v=-0.0065, grad=0.0000), Var(v=-0.0031, grad=0.0000)], [Var(v=-0.0039, grad=0.0000), Var(v=-0.0100, grad=0.0000), Var(v=-0.0066, grad=0.0000), Var(v=-0.0030, grad=0.0000)]]]\n",
      "Loss: Var(v=19.4317, grad=0.0000)\n",
      "Output: [[[Var(v=-0.0021, grad=-0.7513), Var(v=0.0086, grad=0.2514), Var(v=0.0130, grad=0.2525), Var(v=-0.0080, grad=0.2473)], [Var(v=-0.0028, grad=-0.7512), Var(v=0.0073, grad=0.2513), Var(v=0.0124, grad=0.2526), Var(v=-0.0087, grad=0.2473)], [Var(v=-0.0029, grad=0.2488), Var(v=0.0072, grad=-0.7487), Var(v=0.0125, grad=0.2526), Var(v=-0.0088, grad=0.2473)], [Var(v=-0.0042, grad=0.2506), Var(v=-0.0110, grad=-0.7511), Var(v=-0.0073, grad=0.2498), Var(v=-0.0032, grad=0.2508)], [Var(v=-0.0039, grad=0.2505), Var(v=-0.0100, grad=-0.7510), Var(v=-0.0065, grad=0.2498), Var(v=-0.0031, grad=0.2507)], [Var(v=-0.0039, grad=0.2505), Var(v=-0.0100, grad=0.2490), Var(v=-0.0066, grad=-0.7502), Var(v=-0.0030, grad=0.2507)]], [[Var(v=-0.0021, grad=0.2487), Var(v=0.0086, grad=-0.7486), Var(v=0.0130, grad=0.2525), Var(v=-0.0080, grad=0.2473)], [Var(v=-0.0041, grad=0.2506), Var(v=-0.0109, grad=0.2489), Var(v=-0.0073, grad=-0.7502), Var(v=-0.0031, grad=0.2508)]], [[Var(v=-0.0021, grad=-0.7513), Var(v=0.0086, grad=0.2514), Var(v=0.0130, grad=0.2525), Var(v=-0.0080, grad=0.2473)], [Var(v=-0.0028, grad=-0.7512), Var(v=0.0073, grad=0.2513), Var(v=0.0124, grad=0.2526), Var(v=-0.0087, grad=0.2473)], [Var(v=-0.0029, grad=0.2488), Var(v=0.0072, grad=-0.7487), Var(v=0.0125, grad=0.2526), Var(v=-0.0088, grad=0.2473)], [Var(v=-0.0042, grad=0.2506), Var(v=-0.0110, grad=-0.7511), Var(v=-0.0073, grad=0.2498), Var(v=-0.0032, grad=0.2508)], [Var(v=-0.0039, grad=0.2505), Var(v=-0.0100, grad=-0.7510), Var(v=-0.0065, grad=0.2498), Var(v=-0.0031, grad=0.2507)], [Var(v=-0.0039, grad=0.2505), Var(v=-0.0100, grad=0.2490), Var(v=-0.0066, grad=-0.7502), Var(v=-0.0030, grad=0.2507)]]]\n",
      "Network before update:\n",
      "Layer 0 \n",
      " Feed-forward: Weights: [[Var(v=-0.0762, grad=-0.0642), Var(v=0.1009, grad=-0.0020)], [Var(v=-0.0537, grad=-0.0020), Var(v=-0.0359, grad=-0.5290)], [Var(v=0.0396, grad=0.0000), Var(v=-0.0444, grad=0.0000)], [Var(v=-0.0055, grad=0.0000), Var(v=0.0686, grad=0.0000)]] Biases: [Var(v=0.0000, grad=-0.0661), Var(v=0.0000, grad=-0.5309)] Recurrent: Weights: [[Var(v=0.1508, grad=0.0059), Var(v=-0.0266, grad=0.0433)], [Var(v=-0.0077, grad=-0.0078), Var(v=-0.0370, grad=-0.0148)]] Initial hidden: [Var(v=0.0000, grad=-0.0028), Var(v=0.0000, grad=-0.0010)]\n",
      "Layer 1 \n",
      " Weights: [[Var(v=0.0517, grad=0.0691), Var(v=0.0816, grad=0.2588), Var(v=0.0262, grad=-0.0695), Var(v=0.0644, grad=-0.2585)], [Var(v=0.0181, grad=-0.2860), Var(v=0.1470, grad=-0.0445), Var(v=0.1493, grad=0.2190), Var(v=-0.0306, grad=0.1116)]] Biases: [Var(v=0.0000, grad=-0.5049), Var(v=0.0000, grad=-3.4980), Var(v=0.0000, grad=0.5167), Var(v=0.0000, grad=3.4863)]\n",
      "\n",
      "Network after update:\n",
      "Layer 0 \n",
      " Feed-forward: Weights: [[Var(v=-0.0755, grad=-0.0642), Var(v=0.1009, grad=-0.0020)], [Var(v=-0.0537, grad=-0.0020), Var(v=-0.0306, grad=-0.5290)], [Var(v=0.0396, grad=0.0000), Var(v=-0.0444, grad=0.0000)], [Var(v=-0.0055, grad=0.0000), Var(v=0.0686, grad=0.0000)]] Biases: [Var(v=0.0007, grad=-0.0661), Var(v=0.0053, grad=-0.5309)] Recurrent: Weights: [[Var(v=0.1507, grad=0.0059), Var(v=-0.0270, grad=0.0433)], [Var(v=-0.0076, grad=-0.0078), Var(v=-0.0369, grad=-0.0148)]] Initial hidden: [Var(v=0.0000, grad=-0.0028), Var(v=0.0000, grad=-0.0010)]\n",
      "Layer 1 \n",
      " Weights: [[Var(v=0.0510, grad=0.0691), Var(v=0.0790, grad=0.2588), Var(v=0.0269, grad=-0.0695), Var(v=0.0670, grad=-0.2585)], [Var(v=0.0209, grad=-0.2860), Var(v=0.1474, grad=-0.0445), Var(v=0.1471, grad=0.2190), Var(v=-0.0317, grad=0.1116)]] Biases: [Var(v=0.0050, grad=-0.5049), Var(v=0.0350, grad=-3.4980), Var(v=-0.0052, grad=0.5167), Var(v=-0.0349, grad=3.4863)]\n",
      "\n",
      "Network after zeroing gradients:\n",
      "Layer 0 \n",
      " Feed-forward: Weights: [[Var(v=-0.0755, grad=0.0000), Var(v=0.1009, grad=0.0000)], [Var(v=-0.0537, grad=0.0000), Var(v=-0.0306, grad=0.0000)], [Var(v=0.0396, grad=0.0000), Var(v=-0.0444, grad=0.0000)], [Var(v=-0.0055, grad=0.0000), Var(v=0.0686, grad=0.0000)]] Biases: [Var(v=0.0007, grad=0.0000), Var(v=0.0053, grad=0.0000)] Recurrent: Weights: [[Var(v=0.1507, grad=0.0000), Var(v=-0.0270, grad=0.0000)], [Var(v=-0.0076, grad=0.0000), Var(v=-0.0369, grad=0.0000)]] Initial hidden: [Var(v=0.0000, grad=0.0000), Var(v=0.0000, grad=0.0000)]\n",
      "Layer 1 \n",
      " Weights: [[Var(v=0.0510, grad=0.0000), Var(v=0.0790, grad=0.0000), Var(v=0.0269, grad=0.0000), Var(v=0.0670, grad=0.0000)], [Var(v=0.0209, grad=0.0000), Var(v=0.1474, grad=0.0000), Var(v=0.1471, grad=0.0000), Var(v=-0.0317, grad=0.0000)]] Biases: [Var(v=0.0050, grad=0.0000), Var(v=0.0350, grad=0.0000), Var(v=-0.0052, grad=0.0000), Var(v=-0.0349, grad=0.0000)]\n"
     ]
    },
    {
     "data": {
      "text/plain": [
       "[None, None]"
      ]
     },
     "execution_count": 15,
     "metadata": {},
     "output_type": "execute_result"
    }
   ],
   "source": [
    "# Insert code here\n",
    "\n",
    "def squared_loss_sequence(t, y):\n",
    "    \n",
    "    # add check that sizes agree\n",
    "    assert len(t) == len(y)\n",
    "    \n",
    "    def squared_loss_single(t, y):\n",
    "\n",
    "        # add check that sizes agree\n",
    "        assert len(t) == len(y)\n",
    "        \n",
    "        Loss = Var(0.0)\n",
    "        for i in range(len(y)): # sum over outputs\n",
    "            for j in range(len(y[i])):\n",
    "                Loss += (t[i][j]-y[i][j]) ** 2\n",
    "        \n",
    "        return Loss\n",
    "\n",
    "    Loss = Var(0.0)\n",
    "    for n in range(len(t)): # sum over training data\n",
    "        Loss += squared_loss_single(t[n], y[n])\n",
    "\n",
    "    return Loss\n",
    "\n",
    "def cross_entropy_loss_sequence(t, y):\n",
    "\n",
    "    # add check that sizes agree\n",
    "    assert len(t) == len(y)\n",
    "\n",
    "    def cross_entropy_loss_single(t, y):\n",
    "\n",
    "        # add check that sizes agree\n",
    "        assert len(t) == len(y)\n",
    "\n",
    "        Loss = Var(0.0)\n",
    "        denominator = Var(0.0)\n",
    "        \n",
    "        for j in range(len(t)):\n",
    "            denominator += t[j].exp()\n",
    "        for j in range(len(t)):\n",
    "            t_softmax = t[j].exp() / denominator\n",
    "            Loss -= y[j]*t_softmax.log()\n",
    "        \n",
    "        return Loss\n",
    "\n",
    "    Loss = Var(0.0)\n",
    "    for i in range(len(t)):\n",
    "        for n in range(len(t[i])):\n",
    "            Loss += cross_entropy_loss_single(t[i][n], y[i][n])\n",
    "\n",
    "    return Loss\n",
    "\n",
    "\n",
    "def sequence_loss(t: Sequence[Sequence[Var]], y: Sequence[Sequence[Var]], loss_fn=cross_entropy_loss_sequence) -> Var:\n",
    "    assert len(t) == len(y)\n",
    "    return loss_fn(t, y)\n",
    "\n",
    "\n",
    "# Test of loss func\n",
    "NN = [\n",
    "    RNNLayer(4, 2, lambda x: x.tanh()),\n",
    "    DenseLayer(2, 4, lambda x: x.identity())\n",
    "]\n",
    "\n",
    "output_train = forward_batch(encoded_training_set_x[:3], NN)\n",
    "print(output_train)       \n",
    "loss = sequence_loss(output_train, encoded_training_set_y[:3], cross_entropy_loss_sequence)\n",
    "print(\"Loss:\", loss)\n",
    "loss.backward()\n",
    "\n",
    "print(\"Output:\", output_train)\n",
    "\n",
    "print('Network before update:')\n",
    "[print('Layer', i, '\\n', NN[i]) for i in range(len(NN))] \n",
    "\n",
    "def parameters(network):\n",
    "    params = []\n",
    "    for layer in range(len(network)):\n",
    "        params += network[layer].parameters()\n",
    "    return params\n",
    "\n",
    "def update_parameters(params, learning_rate=0.01):\n",
    "    for p in params:\n",
    "        p.v -= learning_rate*p.grad\n",
    "\n",
    "def zero_gradients(params):\n",
    "    for p in params:\n",
    "        p.grad = 0.0\n",
    "\n",
    "update_parameters(parameters(NN))\n",
    "\n",
    "print('\\nNetwork after update:')\n",
    "[print('Layer', i, '\\n', NN[i]) for i in range(len(NN))] \n",
    "\n",
    "zero_gradients(parameters(NN))\n",
    "\n",
    "print('\\nNetwork after zeroing gradients:')\n",
    "[print('Layer', i, '\\n', NN[i]) for i in range(len(NN))] \n"
   ]
  },
  {
   "cell_type": "markdown",
   "metadata": {
    "id": "ezSRiVJzk2h5"
   },
   "source": [
    "# Backpropagation through time \n",
    "\n",
    "Since we have automatic differentiation we don't have to code the backpropagation rule by hand. Just to give you a bit of appreciation for have much bookkeeping is necessary we have given the derivation belwo.\n",
    "\n",
    "We need to compute the partial derivatives\n",
    "$\n",
    "\\frac{\\partial E}{\\partial W},~\\frac{\\partial E}{\\partial U},~\\frac{\\partial E}{\\partial V}\n",
    "$. \n",
    "We repeat the definition of the RNN forward pass from above:\n",
    "\n",
    "- $h_t = f(U\\,{x_t} + V\\,{h_{t-1}})$, where $f$ usually is an activation function, e.g. $\\mathrm{tanh}$.\n",
    "- $o_t = W\\,{h_t}$\n",
    "- $\\hat{y}_t = \\mathrm{softmax}(o_{t})$\n",
    "\n",
    "where\n",
    "- $U$ is a weight matrix applied to the given input sample,\n",
    "- $V$ is a weight matrix used for the recurrent computation in order to pass memory along the sequence,\n",
    "- $W$ is a weight matrix used to compute the output of the every timestep (given that every timestep requires an output), and\n",
    "- $h$ is the hidden state (the network's memory) for a given time step.\n",
    "\n",
    "Recall though, that RNNs are recurrent and the weights $W,~U,~V$ are shared across time, i.e. we do not have separate weights for each time step. Therefore, to compute e.g. the partial derivative $\\frac{\\partial E}{\\partial W}$, we need to 1) sum up across time, and 2) apply the chain rule:\n",
    "\n",
    "$$\\frac{\\partial E}{\\partial W} = \\sum_{t} \\frac{\\partial E}{\\partial o_{t}} \\frac{\\partial o_{t}}{\\partial W}\\,.$$\n",
    "To compute$\\frac{\\partial o_{t}}{\\partial W}$ we use the definition of $o_t$ above.\n",
    "From week 1 (exercise i) we have that\n",
    "$$\\delta_{o,t} \\equiv \\frac{\\partial E}{\\partial o_{t}} = \\frac{\\partial E_t}{\\partial o_{t}} = \\hat{y}_{t} - y_{t}\\,,$$\n",
    "where $\\hat{y}_{t}$ is a softmax distribution over model outputs $o_{t}$ at time $t$, and $y_{t}$ is the target label at time $t$. \n",
    "\n",
    "To compute $\\frac{\\partial E}{\\partial U}$ and $\\frac{\\partial E}{\\partial V}$ we again sum over time and use the chain rule:\n",
    "$$\n",
    "\\frac{\\partial E}{\\partial U} = \\sum_{t} \\frac{\\partial E}{\\partial h_{t}} \\frac{\\partial h_{t}}{\\partial U} \\ . \n",
    "$$\n",
    "This leads us to introduce\n",
    "$$\n",
    "\\delta_{h,t} \\equiv \\frac{\\partial E}{\\partial h_{t}} \\ .\n",
    "$$\n",
    "The backpropagation through time recursion is derived by realising that a variation of $h_t$ affects 1) the loss at time step $t$ through the feed-forward connection to the output and 2) the future losses through the $h_{t+1}$ dependence of $h_t$. Mathematically, we write this through the chain rule:\n",
    "\n",
    "$$\n",
    "\\delta_{h,t} \\equiv \\frac{\\partial E}{\\partial h_{t}} =  \\frac{\\partial E}{\\partial o_{t}} \\frac{\\partial o_t}{\\partial h_{t}} + \\frac{\\partial E}{\\partial h_{t+1}}\n",
    "\\frac{\\partial h_{t+1}}{\\partial h_{t}} = \\delta_{o,t} \\frac{\\partial o_t}{\\partial h_{t}} + \\delta_{h,t+1}\n",
    "\\frac{\\partial h_{t+1}}{\\partial h_{t}} \\ . \n",
    "$$\n",
    "\n",
    "Like above we can compute $\\frac{\\partial h_{t+1}}{\\partial h_{t}}$ using the definition of the network (shifted one time step). In the code the intermediate steps to compute the $\\delta$ recursions have been precomputed for you. \n",
    "\n",
    "For more information on backpropagation through time see the [Deep learning book section 10.2.2](https://www.deeplearningbook.org/contents/rnn.html).\n"
   ]
  },
  {
   "cell_type": "markdown",
   "metadata": {
    "id": "XIy3OZaQSrVL"
   },
   "source": [
    "# Exercise f) Complete the training loop\n",
    "\n",
    "Complete the training loop above and run the training. You can leave the hyper-parameters and network size unchanged.\n",
    "\n",
    "Note that despite the small size of the network and dataset, training still takes quite a while. This is an issue with the recurrent structure of Nanograd. Using PyTorch, we would be able to use much larger datasets and models. We will attempt that in the bottom of the notebook. For now, you should get a feel of the recurrent structure of the RNN under the hood."
   ]
  },
  {
   "cell_type": "code",
   "execution_count": 16,
   "metadata": {
    "id": "MkaqbWmroncY"
   },
   "outputs": [],
   "source": [
    "# Initialize training hyperparameters\n",
    "EPOCHS = 200\n",
    "LR = 1e-2 \n",
    "LR_DECAY = 0.995"
   ]
  },
  {
   "cell_type": "code",
   "execution_count": 17,
   "metadata": {
    "id": "-JtM_IQjonfK"
   },
   "outputs": [
    {
     "name": "stdout",
     "output_type": "stream",
     "text": [
      "   0 ( 0.00%) Train loss: 5.184 \t Validation loss: 4.235\n",
      "   5 ( 2.50%) Train loss: 4.578 \t Validation loss: 3.744\n",
      "  10 ( 5.00%) Train loss: 4.432 \t Validation loss: 3.625\n",
      "  15 ( 7.50%) Train loss: 4.335 \t Validation loss: 3.544\n",
      "  20 (10.00%) Train loss: 4.124 \t Validation loss: 3.383\n",
      "  25 (12.50%) Train loss: 3.576 \t Validation loss: 2.991\n",
      "  30 (15.00%) Train loss: 3.205 \t Validation loss: 2.717\n",
      "  35 (17.50%) Train loss: 3.043 \t Validation loss: 2.606\n",
      "  40 (20.00%) Train loss: 2.959 \t Validation loss: 2.555\n",
      "  45 (22.50%) Train loss: 2.906 \t Validation loss: 2.527\n",
      "  50 (25.00%) Train loss: 2.866 \t Validation loss: 2.509\n",
      "  55 (27.50%) Train loss: 2.829 \t Validation loss: 2.501\n",
      "  60 (30.00%) Train loss: 2.796 \t Validation loss: 2.507\n",
      "  65 (32.50%) Train loss: 2.770 \t Validation loss: 2.520\n",
      "  70 (35.00%) Train loss: 2.749 \t Validation loss: 2.530\n",
      "  75 (37.50%) Train loss: 2.733 \t Validation loss: 2.535\n",
      "  80 (40.00%) Train loss: 2.720 \t Validation loss: 2.536\n",
      "  85 (42.50%) Train loss: 2.708 \t Validation loss: 2.535\n",
      "  90 (45.00%) Train loss: 2.698 \t Validation loss: 2.534\n",
      "  95 (47.50%) Train loss: 2.688 \t Validation loss: 2.532\n",
      " 100 (50.00%) Train loss: 2.679 \t Validation loss: 2.530\n",
      " 105 (52.50%) Train loss: 2.670 \t Validation loss: 2.527\n",
      " 110 (55.00%) Train loss: 2.661 \t Validation loss: 2.526\n",
      " 115 (57.50%) Train loss: 2.651 \t Validation loss: 2.524\n",
      " 120 (60.00%) Train loss: 2.639 \t Validation loss: 2.524\n",
      " 125 (62.50%) Train loss: 2.620 \t Validation loss: 2.525\n",
      " 130 (65.00%) Train loss: 2.586 \t Validation loss: 2.529\n",
      " 135 (67.50%) Train loss: 2.535 \t Validation loss: 2.547\n",
      " 140 (70.00%) Train loss: 2.494 \t Validation loss: 2.577\n",
      " 145 (72.50%) Train loss: 2.458 \t Validation loss: 2.589\n",
      " 150 (75.00%) Train loss: 2.408 \t Validation loss: 2.558\n",
      " 155 (77.50%) Train loss: 2.302 \t Validation loss: 2.424\n",
      " 160 (80.00%) Train loss: 2.143 \t Validation loss: 2.204\n",
      " 165 (82.50%) Train loss: 2.031 \t Validation loss: 2.051\n",
      " 170 (85.00%) Train loss: 2.111 \t Validation loss: 2.083\n",
      " 175 (87.50%) Train loss: 2.090 \t Validation loss: 2.074\n",
      " 180 (90.00%) Train loss: 2.033 \t Validation loss: 2.010\n",
      " 185 (92.50%) Train loss: 1.984 \t Validation loss: 1.948\n",
      " 190 (95.00%) Train loss: 1.942 \t Validation loss: 1.893\n",
      " 195 (97.50%) Train loss: 1.905 \t Validation loss: 1.844\n"
     ]
    },
    {
     "data": {
      "image/png": "[encoded data removed]",
      "text/plain": [
       "<Figure size 432x288 with 1 Axes>"
      ]
     },
     "metadata": {
      "needs_background": "light"
     },
     "output_type": "display_data"
    }
   ],
   "source": [
    "train_loss = []\n",
    "val_loss = []\n",
    "\n",
    "batch_size = 8\n",
    "\n",
    "for e in range(EPOCHS):\n",
    "    for b in range(int(np.ceil(len(encoded_training_set_x)/batch_size))):\n",
    "        # Forward pass and loss computation\n",
    "        \n",
    "        output_train = forward_batch(encoded_training_set_x[b*batch_size:(b+1)*batch_size], NN)\n",
    "        Loss = sequence_loss(output_train, encoded_training_set_y[b*batch_size:(b+1)*batch_size], cross_entropy_loss_sequence)\n",
    "\n",
    "        # Backward pass\n",
    "        Loss.backward()\n",
    "        \n",
    "        # gradient descent update\n",
    "        update_parameters(parameters(NN), LR)\n",
    "        zero_gradients(parameters(NN))\n",
    "      \n",
    "    LR = LR * LR_DECAY\n",
    "\n",
    "    # Training loss\n",
    "    output_train = forward_batch(encoded_training_set_x, NN)\n",
    "    Loss = sequence_loss(output_train, encoded_training_set_y, cross_entropy_loss_sequence)\n",
    "    train_loss.append(Loss.v/len(output_train))\n",
    "        \n",
    "    # Validation loss\n",
    "    output_val = forward_batch(encoded_validation_set_x, NN)\n",
    "    Loss_validation = sequence_loss(output_val, encoded_validation_set_y, cross_entropy_loss_sequence)\n",
    "    val_loss.append(Loss_validation.v/len(output_val))\n",
    "    \n",
    "    if e%5==0:\n",
    "        print(\"{:4d}\".format(e),\n",
    "              \"({:5.2f}%)\".format(e/EPOCHS*100), \n",
    "              \"Train loss: {:4.3f} \\t Validation loss: {:4.3f}\".format(train_loss[-1], val_loss[-1]))\n",
    "        \n",
    "# Plot training and validation loss\n",
    "import matplotlib.pyplot as plt\n",
    "%matplotlib inline\n",
    "epoch = np.arange(len(train_loss))\n",
    "plt.figure()\n",
    "plt.plot(epoch, train_loss, 'r', label='Training loss',)\n",
    "plt.plot(epoch, val_loss, 'b', label='Validation loss')\n",
    "plt.legend()\n",
    "plt.xlabel('Epoch'), plt.ylabel('NLL')\n",
    "plt.show()"
   ]
  },
  {
   "cell_type": "code",
   "execution_count": 18,
   "metadata": {
    "id": "nAI_D6g25pTQ"
   },
   "outputs": [
    {
     "name": "stdout",
     "output_type": "stream",
     "text": [
      "Input sentence:\n",
      "['a', 'a', 'a', 'b', 'b', 'b']\n",
      "\n",
      "Target sequence:\n",
      "['a', 'a', 'b', 'b', 'b', 'EOS']\n",
      "\n",
      "Predicted sequence:\n",
      "['a', 'b', 'b', 'b', 'b', 'EOS']\n"
     ]
    }
   ],
   "source": [
    "# Get first sentence in test set\n",
    "inputs, targets = test_set[0]\n",
    "\n",
    "# One-hot encode input and target sequence\n",
    "inputs_one_hot = one_hot_encode_sequence(inputs, vocab_size)\n",
    "targets_one_hot = one_hot_encode_sequence(targets, vocab_size)\n",
    "\n",
    "# Forward pass\n",
    "outputs = forward_batch(encoded_test_set_x[:1], NN)\n",
    "\n",
    "output_sentence = [idx_to_word[np.argmax(output)] for output in Var_to_nparray(outputs[0])]\n",
    "\n",
    "print('Input sentence:')\n",
    "print(inputs)\n",
    "\n",
    "print('\\nTarget sequence:')\n",
    "print(targets)\n",
    "\n",
    "print('\\nPredicted sequence:')\n",
    "print([idx_to_word[np.argmax(output)] for output in Var_to_nparray(outputs[0])])"
   ]
  },
  {
   "cell_type": "markdown",
   "metadata": {
    "id": "Nn7QpUZXk2iH"
   },
   "source": [
    "## Exercise g) Extrapolation\n",
    "\n",
    "Now that we have trained an RNN, it's time to put it to test. We will provide the network with a starting sentence and let it `freestyle` from there!\n",
    "\n",
    "How well does your RNN extrapolate -- does it work as expected? Are there any imperfections? If yes, why could that be?"
   ]
  },
  {
   "cell_type": "markdown",
   "metadata": {},
   "source": [
    "### Answer\n",
    "\n",
    "The model does work somewhat expected. In some cases the model creates a desired sequence with equal amount of a's and b's. Furthermore, it doesn't add any a's or b's to the `r n n` sequence. Though, the model adds alot of a's and b's to the sequence of only an `a`, while it doesn't have an equal amount of a's and b's in several cases.\n",
    "These imperfections could be the result of the training set, having too few/many sequences that are too short or long. "
   ]
  },
  {
   "cell_type": "code",
   "execution_count": 19,
   "metadata": {
    "id": "4GNsD6HEJ-Gn"
   },
   "outputs": [
    {
     "name": "stdout",
     "output_type": "stream",
     "text": [
      "Example 0: a a b\n",
      "Predicted sequence: ['a', 'a', 'b', 'b', 'b', 'EOS']\n",
      "\n",
      "Example 1: a a a a b\n",
      "Predicted sequence: ['a', 'a', 'a', 'a', 'b', 'b', 'b', 'EOS']\n",
      "\n",
      "Example 2: a a a a a a b\n",
      "Predicted sequence: ['a', 'a', 'a', 'a', 'a', 'a', 'b', 'b', 'EOS']\n",
      "\n",
      "Example 3: a\n",
      "Predicted sequence: ['a', 'a', 'b', 'b', 'b', 'EOS']\n",
      "\n",
      "Example 4: r n n\n",
      "Predicted sequence: ['r', 'n', 'n', 'a', 'b', 'b', 'EOS']\n",
      "\n"
     ]
    }
   ],
   "source": [
    "def freestyle(NN, sentence='', num_generate=10):\n",
    "    \"\"\"\n",
    "    Takes in a sentence as a string and outputs a sequence\n",
    "    based on the predictions of the RNN.\n",
    "    \n",
    "    Args:\n",
    "     `params`: the parameters of the network\n",
    "     `sentence`: string with whitespace-separated tokens\n",
    "     `num_generate`: the number of tokens to generate\n",
    "    \"\"\"\n",
    "    sentence = sentence.split(' ')\n",
    "    output_sentence = sentence\n",
    "    sentence_one_hot = one_hot_encode_sequence(sentence, vocab_size)\n",
    "\n",
    "    # Begin predicting\n",
    "    outputs = forward_batch([sentence_one_hot], NN, use_stored_hid=False)\n",
    "    output_words = [idx_to_word[np.argmax(output)] for output in Var_to_nparray(outputs[0])]\n",
    "    word = output_words[-1]\n",
    "\n",
    "    # Append first prediction\n",
    "    output_sentence.append(word)\n",
    "\n",
    "    # Forward pass - Insert code here!\n",
    "    if word != 'EOS':\n",
    "        for i in range(num_generate-1):\n",
    "            sentence_one_hot = one_hot_encode_sequence(output_sentence, vocab_size)\n",
    "            outputs = forward_batch([sentence_one_hot], NN, use_stored_hid=False)\n",
    "            output_words = [idx_to_word[np.argmax(output)] for output in Var_to_nparray(outputs[0])]\n",
    "            word = output_words[-1]\n",
    "            output_sentence.append(word)\n",
    "            if word == 'EOS':\n",
    "                break\n",
    "          \n",
    "    return output_sentence\n",
    "\n",
    "\n",
    "# Perform freestyle (extrapolation)\n",
    "test_examples = ['a a b', 'a a a a b', 'a a a a a a b', 'a', 'r n n']\n",
    "for i, test_example in enumerate(test_examples):\n",
    "    print(f'Example {i}:', test_example)\n",
    "    print('Predicted sequence:', freestyle(NN, sentence=test_example), end='\\n\\n')"
   ]
  },
  {
   "cell_type": "markdown",
   "metadata": {
    "id": "X44hQ653vNCj"
   },
   "source": [
    "# Introduction to the Long Short-Term Memory (LSTM) Cell\n",
    "\n",
    "Reading material: [Christopher Olah's walk-through](http://colah.github.io/posts/2015-08-Understanding-LSTMs/).\n",
    "\n",
    "___\n",
    "\n",
    "\n",
    "A vanilla RNN suffers from [the vanishing gradients problem](http://neuralnetworksanddeeplearning.com/chap5.html#the_vanishing_gradient_problem) which gives challenges in saving memory over longer sequences. To combat these issues the gated hidden units were created. The two most prominent gated hidden units are the Long Short-Term Memory (LSTM) cell and the Gated Recurrent Unit (GRU), both of which have shown increased performance in saving and reusing memory in later timesteps. In this exercise, we will focus on LSTM but you would easily be able to go ahead and implement the GRU as well based on the principles that you learn here.\n",
    "\n",
    "Below is a figure of the LSTM cell:"
   ]
  },
  {
   "cell_type": "markdown",
   "metadata": {
    "id": "5Rgc-g3zwV9f"
   },
   "source": [
    "![lstm](https://i.imgur.com/3VkmUCe.png)\n",
    "Source: https://arxiv.org/abs/1412.7828"
   ]
  },
  {
   "cell_type": "markdown",
   "metadata": {
    "id": "ytasZ5cqw4W1"
   },
   "source": [
    "\n",
    "The LSTM cell contains three gates, input, forget, output gates and a memory cell.\n",
    "The output of the LSTM unit is computed with the following functions, where $\\sigma = \\mathrm{sigmoid}$.\n",
    "We have input gate $i$, forget gate $f$, and output gate $o$ defines as\n",
    "\n",
    "- $i = \\sigma ( W^i [h_{t-1}, x_t])$\n",
    "\n",
    "- $f = \\sigma ( W^f [h_{t-1},x_t])$\n",
    "\n",
    "- $o = \\sigma ( W^o [h_{t-1},x_t])$\n",
    "\n",
    "where $W^i, W^f, W^o$ are weight matrices applied to a concatenated $h_{t-1}$ (hidden state vector) and $x_t$ (input vector)  for each respective gate.\n",
    "\n",
    "$h_{t-1}$, from the previous time step along with the current input $x_t$ are used to compute the a candidate $g$\n",
    "\n",
    "- $g = \\mathrm{tanh}( W^g [h_{t-1}, x_t])$\n",
    "\n",
    "The value of the cell's memory, $c_t$, is updated as\n",
    "\n",
    "- $c_t = c_{t-1} \\circ f + g \\circ i$\n",
    "\n",
    "where $c_{t-1}$ is the previous memory, and $\\circ$ refers to element-wise multiplication (hint: element-wise multiplication is computed with the `*` operator in numpy).\n",
    "\n",
    "The output, $h_t$, is computed as\n",
    "\n",
    "- $h_t = \\mathrm{tanh}(c_t) \\circ o$\n",
    "\n",
    "and it is used for both the timestep's output and the next timestep, whereas $c_t$ is exclusively sent to the next timestep.\n",
    "This makes $c_t$ a memory feature, and is not used directly to compute the output of the timestep."
   ]
  },
  {
   "cell_type": "markdown",
   "metadata": {
    "id": "m8_4RWp3k2iQ"
   },
   "source": [
    "## Exercise h) Make the LSTMLayer class\n",
    "\n",
    "Make the LSTM class."
   ]
  },
  {
   "cell_type": "code",
   "execution_count": 47,
   "metadata": {
    "id": "qdU0yMXQU7d0"
   },
   "outputs": [],
   "source": [
    "# Insert code here\n",
    "\n",
    "class LSTMLayer:\n",
    "    def __init__(self, n_in: int, n_hid: int, act_fn, initializer = NormalInitializer(), initializer_hid = NormalInitializer()):\n",
    "        self.n_in = n_in\n",
    "        self.n_hid = n_hid\n",
    "        self.in_hid_layer = DenseLayer(n_in, n_hid, lambda x: x, initializer)\n",
    "        self.g_layer = DenseLayer(n_hid+n_in, n_hid, lambda x: x.tanh(), initializer_hid, use_bias=False)\n",
    "        self.i_layer = DenseLayer(n_hid+n_in, n_hid, lambda x: x.sigmoid(), initializer_hid, use_bias=False)\n",
    "        self.f_layer = DenseLayer(n_hid+n_in, n_hid, lambda x: x.sigmoid(), initializer_hid, use_bias=False)\n",
    "        self.o_layer = DenseLayer(n_hid+n_in, n_hid, lambda x: x.sigmoid(), initializer_hid, use_bias=False)\n",
    "        self.initial_hid = [Var(0.0) for _ in range(n_hid)]\n",
    "        self.stored_hid = [Var(0.0) for _ in range(n_hid)]\n",
    "        self.initial_c = [Var(0.0) for _ in range(n_hid)]\n",
    "        self.stored_c = [Var(0.0) for _ in range(n_hid)]\n",
    "        self.act_fn = act_fn\n",
    "    \n",
    "    def __repr__(self):    \n",
    "        return 'Feed-forward: ' + repr(self.in_hid_layer) + ' Candidate: ' + repr(self.g_layer) + ' i gate ' + repr(self.i_layer) + ' f gate ' + repr(self.f_layer) + ' o gate ' + repr(self.o_layer) + ' Initial hidden: ' + repr(self.initial_hid)\n",
    "\n",
    "    def parameters(self) -> Sequence[Var]:      \n",
    "        return self.in_hid_layer.parameters() + self.g_layer.parameters() + self.i_layer.parameters() + self.f_layer.parameters() + self.o_layer.parameters() + self.initial_hid\n",
    "\n",
    "    def forward_step(self, input: Sequence[Var], input_hid: Sequence[Var], input_c: Sequence[Var]) -> Sequence[Var]:\n",
    "        hids = []\n",
    "        cs = []\n",
    "        concatenated_input = []\n",
    "        for val in input_hid:\n",
    "            concatenated_input.append(val)\n",
    "        for val in input:\n",
    "            concatenated_input.append(val)\n",
    "        \n",
    "        # in_hids = self.in_hid_layer.forward(concatenated_input)    # contribution from input\n",
    "        \n",
    "        i = self.i_layer.forward(concatenated_input)\n",
    "        f = self.f_layer.forward(concatenated_input)\n",
    "        o = self.o_layer.forward(concatenated_input)\n",
    "        g = self.g_layer.forward(concatenated_input)\n",
    "        \n",
    "        for n in range(self.n_hid):\n",
    "            cs.append(input_c[n]*f[n] + g[n]*i[n])\n",
    "            hids.append(cs[-1].tanh()*o[n])\n",
    "\n",
    "        return hids, cs\n",
    "        \n",
    "        in_hids = self.in_hid_layer.forward(input)    # contribution from input\n",
    "        hid_hids = self.hid_hid_layer.forward(input_hid)  # contribution from hidden state\n",
    "\n",
    "        hids = []\n",
    "        for i in range(self.n_hid):\n",
    "            hids.append(self.act_fn(in_hids[i] + hid_hids[i]))\n",
    "\n",
    "        return hids\n",
    "    \n",
    "    def forward_sequence(self, input: Sequence[Sequence[Var]], use_stored_hid = False) -> Sequence[Sequence[Var]]:\n",
    "        out = []\n",
    "        if use_stored_hid:\n",
    "            hid = self.stored_hid\n",
    "            c = self.stored_c\n",
    "        else:\n",
    "            hid = self.initial_hid\n",
    "            c = self.initial_c\n",
    "        # Takes a sequence and loops over each character in the sequence. Note that each character has dimenson equal to the embeddng dimenson\n",
    "        for i in range(len(input)):\n",
    "            hid, c = self.forward_step(input[i], hid, c) # insert code here\n",
    "            out.append(hid)\n",
    "        self.stored_hid = hid\n",
    "        self.stored_c = c\n",
    "        return out"
   ]
  },
  {
   "cell_type": "markdown",
   "metadata": {
    "id": "gKu-bfhzk2iY"
   },
   "source": [
    "Here is a bit of code to test it out:"
   ]
  },
  {
   "cell_type": "code",
   "execution_count": 50,
   "metadata": {
    "id": "u4AYroqSVRSv"
   },
   "outputs": [
    {
     "name": "stdout",
     "output_type": "stream",
     "text": [
      "Feed-forward: Weights: [[Var(v=0.0358, grad=0.0000), Var(v=0.2085, grad=0.0000), Var(v=-0.1606, grad=0.0000), Var(v=0.1075, grad=0.0000), Var(v=-0.1393, grad=0.0000)]] Biases: [Var(v=0.0000, grad=0.0000), Var(v=0.0000, grad=0.0000), Var(v=0.0000, grad=0.0000), Var(v=0.0000, grad=0.0000), Var(v=0.0000, grad=0.0000)] Candidate: Weights: [[Var(v=-0.1140, grad=0.0000), Var(v=0.0864, grad=0.0000), Var(v=-0.1113, grad=0.0000), Var(v=0.0231, grad=0.0000), Var(v=0.0863, grad=0.0000)], [Var(v=-0.0533, grad=0.0000), Var(v=0.0044, grad=0.0000), Var(v=-0.1583, grad=0.0000), Var(v=-0.0047, grad=0.0000), Var(v=0.0780, grad=0.0000)], [Var(v=-0.0136, grad=0.0000), Var(v=-0.0495, grad=0.0000), Var(v=-0.0036, grad=0.0000), Var(v=-0.1063, grad=0.0000), Var(v=0.2215, grad=0.0000)], [Var(v=-0.0525, grad=0.0000), Var(v=0.1878, grad=0.0000), Var(v=-0.1636, grad=0.0000), Var(v=0.0572, grad=0.0000), Var(v=-0.0824, grad=0.0000)], [Var(v=0.1468, grad=0.0000), Var(v=0.0528, grad=0.0000), Var(v=-0.0014, grad=0.0000), Var(v=0.0241, grad=0.0000), Var(v=-0.0029, grad=0.0000)], [Var(v=-0.0290, grad=0.0000), Var(v=-0.0665, grad=0.0000), Var(v=0.0269, grad=0.0000), Var(v=-0.0378, grad=0.0000), Var(v=0.0269, grad=0.0000)]] i gate Weights: [[Var(v=-0.1604, grad=0.0000), Var(v=-0.0195, grad=0.0000), Var(v=0.1028, grad=0.0000), Var(v=0.0005, grad=0.0000), Var(v=0.0065, grad=0.0000)], [Var(v=0.1438, grad=0.0000), Var(v=0.0548, grad=0.0000), Var(v=-0.1158, grad=0.0000), Var(v=0.0266, grad=0.0000), Var(v=0.0192, grad=0.0000)], [Var(v=0.0003, grad=0.0000), Var(v=-0.1294, grad=0.0000), Var(v=-0.0411, grad=0.0000), Var(v=0.0998, grad=0.0000), Var(v=0.2131, grad=0.0000)], [Var(v=0.0197, grad=0.0000), Var(v=-0.0412, grad=0.0000), Var(v=0.1000, grad=0.0000), Var(v=0.2475, grad=0.0000), Var(v=-0.0712, grad=0.0000)], [Var(v=0.0285, grad=0.0000), Var(v=0.1576, grad=0.0000), Var(v=-0.0093, grad=0.0000), Var(v=-0.0768, grad=0.0000), Var(v=0.1950, grad=0.0000)], [Var(v=-0.1261, grad=0.0000), Var(v=0.0757, grad=0.0000), Var(v=0.0793, grad=0.0000), Var(v=-0.0623, grad=0.0000), Var(v=-0.2598, grad=0.0000)]] f gate Weights: [[Var(v=-0.0500, grad=0.0000), Var(v=-0.0006, grad=0.0000), Var(v=0.0405, grad=0.0000), Var(v=0.0937, grad=0.0000), Var(v=-0.0185, grad=0.0000)], [Var(v=0.0734, grad=0.0000), Var(v=0.0354, grad=0.0000), Var(v=0.0802, grad=0.0000), Var(v=0.0038, grad=0.0000), Var(v=0.0241, grad=0.0000)], [Var(v=0.0442, grad=0.0000), Var(v=0.1558, grad=0.0000), Var(v=-0.0244, grad=0.0000), Var(v=0.1435, grad=0.0000), Var(v=-0.1151, grad=0.0000)], [Var(v=-0.1741, grad=0.0000), Var(v=-0.0978, grad=0.0000), Var(v=0.1386, grad=0.0000), Var(v=0.0380, grad=0.0000), Var(v=-0.0298, grad=0.0000)], [Var(v=-0.1101, grad=0.0000), Var(v=0.0264, grad=0.0000), Var(v=-0.0084, grad=0.0000), Var(v=-0.1181, grad=0.0000), Var(v=-0.0129, grad=0.0000)], [Var(v=-0.0565, grad=0.0000), Var(v=-0.0660, grad=0.0000), Var(v=-0.0777, grad=0.0000), Var(v=0.0152, grad=0.0000), Var(v=0.0070, grad=0.0000)]] o gate Weights: [[Var(v=-0.1012, grad=0.0000), Var(v=-0.0248, grad=0.0000), Var(v=0.0867, grad=0.0000), Var(v=0.0460, grad=0.0000), Var(v=0.1745, grad=0.0000)], [Var(v=0.0546, grad=0.0000), Var(v=0.0066, grad=0.0000), Var(v=-0.0398, grad=0.0000), Var(v=-0.0150, grad=0.0000), Var(v=0.0016, grad=0.0000)], [Var(v=0.0130, grad=0.0000), Var(v=0.1366, grad=0.0000), Var(v=-0.1216, grad=0.0000), Var(v=0.0152, grad=0.0000), Var(v=-0.1115, grad=0.0000)], [Var(v=-0.0556, grad=0.0000), Var(v=-0.0533, grad=0.0000), Var(v=-0.0069, grad=0.0000), Var(v=-0.0079, grad=0.0000), Var(v=0.1472, grad=0.0000)], [Var(v=0.0804, grad=0.0000), Var(v=-0.1439, grad=0.0000), Var(v=0.1676, grad=0.0000), Var(v=0.0045, grad=0.0000), Var(v=-0.1118, grad=0.0000)], [Var(v=-0.0869, grad=0.0000), Var(v=0.0847, grad=0.0000), Var(v=0.1739, grad=0.0000), Var(v=-0.0124, grad=0.0000), Var(v=0.0345, grad=0.0000)]] Initial hidden: [Var(v=0.0000, grad=0.0000), Var(v=0.0000, grad=0.0000), Var(v=0.0000, grad=0.0000), Var(v=0.0000, grad=0.0000), Var(v=0.0000, grad=0.0000)]\n",
      "[[[Var(v=0.0006, grad=1.0000)], [Var(v=0.0016, grad=0.0000)], [Var(v=0.0030, grad=0.0000)]], [[Var(v=0.0006, grad=0.0000)], [Var(v=0.0016, grad=0.0000)], [Var(v=0.0030, grad=0.0000)]]]\n"
     ]
    }
   ],
   "source": [
    "NN = [\n",
    "    LSTMLayer(1, 5, lambda x: x.tanh()),\n",
    "    DenseLayer(5, 1, lambda x: x.identity())\n",
    "]\n",
    "\n",
    "print(NN[0])\n",
    "x_train =[[[Var(1.0)], [Var(2.0)], [Var(3.0)]],\n",
    "          [[Var(1.0)], [Var(2.0)], [Var(3.0)]]]\n",
    "\n",
    "output_train = forward_batch(x_train, NN)          \n",
    "output_train[0][0][0].backward()\n",
    "\n",
    "print(output_train)"
   ]
  },
  {
   "cell_type": "markdown",
   "metadata": {
    "id": "z4r4mgFsk2ik"
   },
   "source": [
    "## Exercise i) LSTM training\n",
    "\n",
    "Complete the LSTM training loop\n",
    "\n",
    "Run the training loop. Training time in Nanograd will likely be long, but see if you can find settings to compare your LSTM learning curve (NLL and number of epochs) to the vanilla RNN from earlier. Do you observe any improvements? Motivate your answer.\n",
    "\n",
    "Finally, below we will implement LSTM in PyTorch. You will notice it is much, much faster!"
   ]
  },
  {
   "cell_type": "code",
   "execution_count": 22,
   "metadata": {
    "id": "MOAmppJD66tJ"
   },
   "outputs": [],
   "source": [
    "# Initialize training hyperparameters\n",
    "EPOCHS = 7\n",
    "LR = 1e-2 \n",
    "LR_DECAY = 0.995"
   ]
  },
  {
   "cell_type": "code",
   "execution_count": 23,
   "metadata": {
    "id": "tiotu2ab66w-"
   },
   "outputs": [
    {
     "name": "stdout",
     "output_type": "stream",
     "text": [
      "   0 ( 0.00%) Train loss: 5.233 \t Validation loss: 4.277\n",
      "   2 (28.57%) Train loss: 4.831 \t Validation loss: 3.950\n",
      "   4 (57.14%) Train loss: 4.663 \t Validation loss: 3.814\n",
      "   6 (85.71%) Train loss: 4.574 \t Validation loss: 3.741\n"
     ]
    },
    {
     "data": {
      "image/png": "[encoded data removed]",
      "text/plain": [
       "<Figure size 432x288 with 1 Axes>"
      ]
     },
     "metadata": {
      "needs_background": "light"
     },
     "output_type": "display_data"
    }
   ],
   "source": [
    "NN = [\n",
    "    LSTMLayer(4, 1, lambda x: x.tanh()),\n",
    "    DenseLayer(1, 4, lambda x: x.identity())\n",
    "]\n",
    "\n",
    "train_loss = []\n",
    "val_loss = []\n",
    "\n",
    "batch_size = 8\n",
    "\n",
    "for e in range(EPOCHS):\n",
    "    for b in range(int(np.ceil(len(encoded_training_set_x)/batch_size))):\n",
    "        # Forward pass and loss computation\n",
    "        output_train = forward_batch(encoded_training_set_x[b*batch_size:(b+1)*batch_size], NN)\n",
    "        Loss = sequence_loss(output_train, encoded_training_set_y[b*batch_size:(b+1)*batch_size], cross_entropy_loss_sequence)\n",
    "\n",
    "        # Backward pass\n",
    "        Loss.backward()\n",
    "        \n",
    "        # gradient descent update\n",
    "        update_parameters(parameters(NN), LR)\n",
    "        zero_gradients(parameters(NN))\n",
    "      \n",
    "    LR = LR * LR_DECAY\n",
    "\n",
    "    # Training loss\n",
    "    output_train = forward_batch(encoded_training_set_x, NN)\n",
    "    Loss = sequence_loss(output_train, encoded_training_set_y, cross_entropy_loss_sequence)\n",
    "    train_loss.append(Loss.v/len(output_train))\n",
    "        \n",
    "    # Validation loss\n",
    "    output_val = forward_batch(encoded_validation_set_x, NN)\n",
    "    Loss_validation = sequence_loss(output_val, encoded_validation_set_y, cross_entropy_loss_sequence)\n",
    "    val_loss.append(Loss_validation.v/len(output_val))\n",
    "    \n",
    "    if e%2==0:\n",
    "        print(\"{:4d}\".format(e),\n",
    "              \"({:5.2f}%)\".format(e/EPOCHS*100), \n",
    "              \"Train loss: {:4.3f} \\t Validation loss: {:4.3f}\".format(train_loss[-1], val_loss[-1]))\n",
    "        \n",
    "# Plot training and validation loss\n",
    "import matplotlib.pyplot as plt\n",
    "%matplotlib inline\n",
    "epoch = np.arange(len(train_loss))\n",
    "plt.figure()\n",
    "plt.plot(epoch, train_loss, 'r', label='Training loss',)\n",
    "plt.plot(epoch, val_loss, 'b', label='Validation loss')\n",
    "plt.legend()\n",
    "plt.xlabel('Epoch'), plt.ylabel('NLL')\n",
    "plt.show()"
   ]
  },
  {
   "cell_type": "code",
   "execution_count": 24,
   "metadata": {},
   "outputs": [
    {
     "name": "stdout",
     "output_type": "stream",
     "text": [
      "Example 0: a a b\n",
      "Predicted sequence: ['a', 'a', 'b', 'b', 'b', 'b', 'b', 'b', 'b', 'b', 'b', 'b', 'b']\n",
      "\n",
      "Example 1: a a a a b\n",
      "Predicted sequence: ['a', 'a', 'a', 'a', 'b', 'b', 'b', 'b', 'b', 'b', 'b', 'b', 'b', 'b', 'b']\n",
      "\n",
      "Example 2: a a a a a a b\n",
      "Predicted sequence: ['a', 'a', 'a', 'a', 'a', 'a', 'b', 'b', 'b', 'b', 'b', 'b', 'b', 'b', 'b', 'b', 'b']\n",
      "\n",
      "Example 3: a\n",
      "Predicted sequence: ['a', 'b', 'b', 'b', 'b', 'b', 'b', 'b', 'b', 'b', 'b']\n",
      "\n",
      "Example 4: r n n\n",
      "Predicted sequence: ['r', 'n', 'n', 'b', 'b', 'b', 'b', 'b', 'b', 'b', 'b', 'b', 'b']\n",
      "\n"
     ]
    }
   ],
   "source": [
    "# Perform freestyle (extrapolation)\n",
    "test_examples = ['a a b', 'a a a a b', 'a a a a a a b', 'a', 'r n n']\n",
    "for i, test_example in enumerate(test_examples):\n",
    "    print(f'Example {i}:', test_example)\n",
    "    print('Predicted sequence:', freestyle(NN, sentence=test_example), end='\\n\\n')"
   ]
  },
  {
   "cell_type": "markdown",
   "metadata": {
    "id": "gi51eWgKxyOk"
   },
   "source": [
    "## PyTorch implementation of the LSTM\n",
    "\n",
    "Now that we know how the LSTM cell works, let's see how easy it is to use in PyTorch!"
   ]
  },
  {
   "cell_type": "markdown",
   "metadata": {
    "id": "O6HDdJLuk2ip"
   },
   "source": [
    "Definition of our LSTM network. We define a LSTM layer using the [nn.LSTM](https://pytorch.org/docs/stable/nn.html#lstm) class. The LSTM layer takes as argument the size of the input and the size of the hidden state like in our Nanograd implementation."
   ]
  },
  {
   "cell_type": "code",
   "execution_count": 79,
   "metadata": {
    "id": "8UGrvknfk2ip"
   },
   "outputs": [
    {
     "name": "stdout",
     "output_type": "stream",
     "text": [
      "MyRecurrentNet(\n",
      "  (lstm): LSTM(4, 50)\n",
      "  (l1): Linear(in_features=50, out_features=25, bias=True)\n",
      "  (l_out): Linear(in_features=25, out_features=4, bias=False)\n",
      ")\n"
     ]
    }
   ],
   "source": [
    "import torch\n",
    "import torch.nn as nn\n",
    "import torch.nn.functional as F\n",
    "\n",
    "class MyRecurrentNet(nn.Module):\n",
    "    def __init__(self, hidden_size:int=50):\n",
    "        super(MyRecurrentNet, self).__init__()\n",
    "        \n",
    "        # Recurrent layer\n",
    "        # YOUR CODE HERE!\n",
    "        self.lstm = nn.LSTM(input_size=4, hidden_size=hidden_size)\n",
    "        \n",
    "        # Output layer\n",
    "        self.l1 = nn.Linear(hidden_size, hidden_size//2)\n",
    "        self.l_out = nn.Linear(in_features=hidden_size//2,\n",
    "                            out_features=vocab_size,\n",
    "                            bias=False)\n",
    "        \n",
    "    def forward(self, x):\n",
    "        # RNN returns output and last hidden state\n",
    "        x, (h, c) = self.lstm(x)\n",
    "        # Flatten output for feed-forward layer\n",
    "        x = x.view(-1, self.lstm.hidden_size)\n",
    "        \n",
    "        # Output layer\n",
    "        x = self.l1(x)\n",
    "        x = self.l_out(x)\n",
    "        \n",
    "        return x\n",
    "\n",
    "net = MyRecurrentNet()\n",
    "print(net)"
   ]
  },
  {
   "cell_type": "markdown",
   "metadata": {
    "id": "J6r3bPwYk2is"
   },
   "source": [
    "## Exercise j) Train in PyTorch\n",
    "\n",
    "Define an LSTM for our recurrent neural network `MyRecurrentNet` above. A single LSTM layer is sufficient. What should the input size and hidden size be? Hint: use the PyTorch documentation.\n",
    "\n",
    "It's time for us to train our network. In the section below, you will get to put your deep learning skills to use and create your own training loop. You may want to consult previous exercises if you cannot recall how to define the training loop."
   ]
  },
  {
   "cell_type": "code",
   "execution_count": 80,
   "metadata": {},
   "outputs": [],
   "source": [
    "def one_hot_encode_sequence2(sequence, vocab_size):\n",
    "    \"\"\"\n",
    "    One-hot encodes a sequence of words given a fixed vocabulary size.\n",
    "    \n",
    "    Args:\n",
    "     `sentence`: a list of words to encode\n",
    "     `vocab_size`: the size of the vocabulary\n",
    "     \n",
    "    Returns a 3-D numpy array of shape (num words, vocab size, 1).\n",
    "    \"\"\"\n",
    "    # Encode each word in the sentence\n",
    "    encoding = np.array([Var_to_nparray(one_hot_encode(word_to_idx[word], vocab_size)) for word in sequence])\n",
    "\n",
    "    # Reshape encoding s.t. it has shape (num words, vocab size, 1)\n",
    "    encoding = encoding.reshape(encoding.shape[0], encoding.shape[2], 1)\n",
    "    return encoding"
   ]
  },
  {
   "cell_type": "code",
   "execution_count": 82,
   "metadata": {
    "id": "2URKsyFDx8xG"
   },
   "outputs": [
    {
     "name": "stdout",
     "output_type": "stream",
     "text": [
      "Epoch 0, training loss: 1.3169154167175292, validation loss: 1.390584111213684\n",
      "Epoch 10, training loss: 0.5362132227420807, validation loss: 0.6860952377319336\n",
      "Epoch 20, training loss: 0.3379515719413757, validation loss: 0.37427857518196106\n",
      "Epoch 30, training loss: 0.3253981077671051, validation loss: 0.34821076194445294\n",
      "Epoch 40, training loss: 0.32124223947525027, validation loss: 0.33561984697977704\n",
      "Epoch 50, training loss: 0.3188688492774963, validation loss: 0.3265353937943776\n",
      "Epoch 60, training loss: 0.31714472293853757, validation loss: 0.3188377320766449\n",
      "Epoch 70, training loss: 0.3157707631587982, validation loss: 0.3123299280802409\n",
      "Epoch 80, training loss: 0.3146517372131348, validation loss: 0.3074599802494049\n",
      "Epoch 90, training loss: 0.3137198352813721, validation loss: 0.3043128550052643\n",
      "Epoch 100, training loss: 0.3129236376285553, validation loss: 0.3024361729621887\n",
      "Epoch 110, training loss: 0.3122301042079926, validation loss: 0.3013114333152771\n",
      "Epoch 120, training loss: 0.31161548614501955, validation loss: 0.3005949060122172\n",
      "Epoch 130, training loss: 0.3110619902610779, validation loss: 0.3001026213169098\n",
      "Epoch 140, training loss: 0.3105566167831421, validation loss: 0.2997427483399709\n",
      "Epoch 150, training loss: 0.3100904619693756, validation loss: 0.2994712193806966\n",
      "Epoch 160, training loss: 0.30965795755386355, validation loss: 0.29926655689875287\n",
      "Epoch 170, training loss: 0.3092563366889954, validation loss: 0.29911866784095764\n",
      "Epoch 180, training loss: 0.30888510823249815, validation loss: 0.29902250568072003\n",
      "Epoch 190, training loss: 0.3085456359386444, validation loss: 0.29897406697273254\n",
      "Epoch 200, training loss: 0.30823961496353147, validation loss: 0.2989663978417714\n",
      "Epoch 210, training loss: 0.3079661452770233, validation loss: 0.29898590842882794\n",
      "Epoch 220, training loss: 0.307720308303833, validation loss: 0.2990143895149231\n",
      "Epoch 230, training loss: 0.30749496579170227, validation loss: 0.2990378439426422\n",
      "Epoch 240, training loss: 0.3072841310501099, validation loss: 0.29905123511950177\n",
      "Epoch 250, training loss: 0.3070841121673584, validation loss: 0.29905620217323303\n",
      "Epoch 260, training loss: 0.3068928563594818, validation loss: 0.2990552981694539\n",
      "Epoch 270, training loss: 0.3067092287540436, validation loss: 0.2990510165691376\n",
      "Epoch 280, training loss: 0.30653263568878175, validation loss: 0.2990456521511078\n",
      "Epoch 290, training loss: 0.3063627624511719, validation loss: 0.2990402082602183\n",
      "Epoch 300, training loss: 0.30619932770729064, validation loss: 0.2990357180436452\n",
      "Epoch 310, training loss: 0.3060422170162201, validation loss: 0.2990319828192393\n",
      "Epoch 320, training loss: 0.3058913779258728, validation loss: 0.2990286350250244\n",
      "Epoch 330, training loss: 0.30574673414230347, validation loss: 0.2990247110525767\n",
      "Epoch 340, training loss: 0.3056082582473755, validation loss: 0.2990192671616872\n",
      "Epoch 350, training loss: 0.3054759204387665, validation loss: 0.2990114986896515\n",
      "Epoch 360, training loss: 0.3053489911556244, validation loss: 0.2989989419778188\n",
      "Epoch 370, training loss: 0.3052284705638886, validation loss: 0.2989846169948578\n",
      "Epoch 380, training loss: 0.30511403679847715, validation loss: 0.29896532495816547\n",
      "Epoch 390, training loss: 0.3050054347515106, validation loss: 0.298942893743515\n",
      "\n",
      "Input sequence:\n",
      "['a', 'a', 'b', 'b']\n",
      "\n",
      "Target sequence:\n",
      "['a', 'b', 'b', 'EOS']\n",
      "\n",
      "Predicted sequence:\n",
      "['b', 'b', 'b', 'EOS']\n"
     ]
    },
    {
     "data": {
      "image/png": "[encoded data removed]",
      "text/plain": [
       "<Figure size 432x288 with 1 Axes>"
      ]
     },
     "metadata": {
      "needs_background": "light"
     },
     "output_type": "display_data"
    }
   ],
   "source": [
    "# Hyper-parameters\n",
    "num_epochs = 400\n",
    "\n",
    "# Initialize a new network\n",
    "net = MyRecurrentNet(hidden_size=64)\n",
    "\n",
    "# Define a loss function and optimizer for this problem\n",
    "# YOUR CODE HERE!\n",
    "criterion = nn.CrossEntropyLoss()\n",
    "optimizer = torch.optim.Adam(net.parameters(), lr=1e-3)\n",
    "\n",
    "# Track loss\n",
    "training_loss, validation_loss = [], []\n",
    "\n",
    "# For each epoch\n",
    "for i in range(num_epochs):\n",
    "    \n",
    "    # Track loss\n",
    "    epoch_training_loss = 0\n",
    "    epoch_validation_loss = 0\n",
    "    \n",
    "    net.eval()\n",
    "        \n",
    "    # For each sentence in validation set\n",
    "    for inputs, targets in validation_set:\n",
    "        \n",
    "        # One-hot encode input and target sequence\n",
    "        inputs_one_hot = one_hot_encode_sequence2(inputs, vocab_size)\n",
    "        targets_idx = [word_to_idx[word] for word in targets]\n",
    "        \n",
    "        # Convert input to tensor\n",
    "        inputs_one_hot = torch.Tensor(inputs_one_hot)\n",
    "        inputs_one_hot = inputs_one_hot.permute(0, 2, 1)\n",
    "        \n",
    "        # Convert target to tensor\n",
    "        targets_idx = torch.LongTensor(targets_idx)\n",
    "        \n",
    "        # Forward pass\n",
    "        # YOUR CODE HERE!\n",
    "        outputs = net(inputs_one_hot)\n",
    "        \n",
    "        # Compute loss\n",
    "        # YOUR CODE HERE!\n",
    "        loss = criterion(outputs, targets_idx)\n",
    "        \n",
    "        # Update loss\n",
    "        epoch_validation_loss += loss.detach().numpy()\n",
    "    \n",
    "    net.train()\n",
    "    \n",
    "    # For each sentence in training set\n",
    "    for inputs, targets in training_set:\n",
    "        \n",
    "        # One-hot encode input and target sequence\n",
    "        inputs_one_hot = one_hot_encode_sequence2(inputs, vocab_size)\n",
    "        targets_idx = [word_to_idx[word] for word in targets]\n",
    "        \n",
    "        # Convert input to tensor\n",
    "        inputs_one_hot = torch.Tensor(inputs_one_hot)\n",
    "        inputs_one_hot = inputs_one_hot.permute(0, 2, 1)\n",
    "        \n",
    "        # Convert target to tensor\n",
    "        targets_idx = torch.LongTensor(targets_idx)\n",
    "        \n",
    "        # Forward pass\n",
    "        # YOUR CODE HERE!\n",
    "        outputs = net(inputs_one_hot)\n",
    "        \n",
    "        # Compute loss\n",
    "        # YOUR CODE criterion(outputs, targets_idx)HERE!\n",
    "        loss = criterion(outputs, targets_idx)\n",
    "        \n",
    "        # Backward pass\n",
    "        # YOUR CODE HERE!\n",
    "        optimizer.zero_grad()\n",
    "        loss.backward()\n",
    "        optimizer.step()\n",
    "        \n",
    "        # Update loss\n",
    "        epoch_training_loss += loss.detach().numpy()\n",
    "        \n",
    "    # Save loss for plot\n",
    "    training_loss.append(epoch_training_loss/len(training_set))\n",
    "    validation_loss.append(epoch_validation_loss/len(validation_set))\n",
    "\n",
    "    # Print loss every 10 epochs\n",
    "    if i % 10 == 0:\n",
    "        print(f'Epoch {i}, training loss: {training_loss[-1]}, validation loss: {validation_loss[-1]}')\n",
    "\n",
    "        \n",
    "# Get first sentence in test set\n",
    "inputs, targets = test_set[1]\n",
    "\n",
    "# One-hot encode input and target sequence\n",
    "inputs_one_hot = one_hot_encode_sequence2(inputs, vocab_size)\n",
    "targets_idx = [word_to_idx[word] for word in targets]\n",
    "\n",
    "# Convert input to tensor\n",
    "inputs_one_hot = torch.Tensor(inputs_one_hot)\n",
    "inputs_one_hot = inputs_one_hot.permute(0, 2, 1)\n",
    "\n",
    "# Convert target to tensor\n",
    "targets_idx = torch.LongTensor(targets_idx)\n",
    "\n",
    "# Forward pass\n",
    "outputs = net.forward(inputs_one_hot).data.numpy()\n",
    "\n",
    "print('\\nInput sequence:')\n",
    "print(inputs)\n",
    "\n",
    "print('\\nTarget sequence:')\n",
    "print(targets)\n",
    "\n",
    "print('\\nPredicted sequence:')\n",
    "print([idx_to_word[np.argmax(output)] for output in outputs])\n",
    "\n",
    "# Plot training and validation loss\n",
    "epoch = np.arange(len(training_loss))\n",
    "plt.figure()\n",
    "plt.plot(epoch, training_loss, 'r', label='Training loss',)\n",
    "plt.plot(epoch, validation_loss, 'b', label='Validation loss')\n",
    "plt.legend()\n",
    "plt.xlabel('Epoch'), plt.ylabel('NLL')\n",
    "plt.show()"
   ]
  },
  {
   "cell_type": "markdown",
   "metadata": {
    "id": "ydr7Czg_k2iw"
   },
   "source": [
    "# Exercise k) Compare PyTorch and Nanograd implementations\n",
    "\n",
    "Compare the two implementations (in terms of predictive performance, training speed, etc.). Are they similar? How do they differ?\n",
    "\n",
    "\n",
    "Try to play around with the choice of hyper-parameters, optimizer, and hidden dimensions. How much can you improve the negative log-likelihood by these simple changes?"
   ]
  },
  {
   "cell_type": "markdown",
   "metadata": {},
   "source": [
    "## Answer:\n",
    "\n",
    "Comparison between PyTorch and Nanograd:\n",
    "- Speed: The Pytorch implementation is significantly faster then Nanograd. This is probably because of the underlying vectorization of the matrix multiplications, instead of using lists and for-loops.\n",
    "- Difference: They differ by how they take an input. \n",
    "    - Nanograd: The input for the Nanograd model is given one-by-one (hence the `n_in` value of 1).\n",
    "    - PyTorch: In PyTorch the input of the whole sequence is given. So the input size is 4.\n",
    "- Similarities: They have a similarity, in that the output will be if same size, i.e. size 4.\n",
    "\n",
    "I tried changing the baseline model (One LSTM layer with hidden size 50 and one linear layer), to include one linear layer more as well as increasing the hidden size in the LSTM layer to 64:\n",
    "- Baseline, optimizer = Adam with lr=1e-3, epochs 400: \n",
    "    - Epoch 390, training loss: 0.3052810525894165, validation loss: 0.29932303229967755\n",
    "- New model, optimizer = Adam with lr=1e-3, epochs 400:\n",
    "    - Epoch 390, training loss: 0.3050054347515106, validation loss: 0.298942893743515\n",
    "\n",
    "As can be seen, the improvements are barely noticeable"
   ]
  },
  {
   "cell_type": "markdown",
   "metadata": {
    "id": "M93ORx95k2ix"
   },
   "source": [
    "## Exercise l) Other RNN cells (optional)\n",
    "\n",
    "Aside from the LSTM cell, various other RNN cells exist. The gated recurrent unit (GRU) is a variation of the LSTM cell that uses less gating mechanisms. Try to look it up in the [PyTorch documentation](https://pytorch.org/docs/stable/nn.html#gru) and switch out the LSTM cell in the code above. What do you notice in terms of performance and convergence speed?"
   ]
  },
  {
   "cell_type": "markdown",
   "metadata": {
    "id": "juN400Ekk2iz"
   },
   "source": [
    "## Exercise m) More complex tasks (optional)\n",
    "\n",
    "Go back and generate a more complex patterned dataset to learn from. Do you see any significant differences between a vanilla RNN and LSTM (implemented in e.g. PyTorch) when you increase the difficulty of the task?"
   ]
  },
  {
   "cell_type": "markdown",
   "metadata": {
    "id": "v68YEkEBk2iz"
   },
   "source": [
    "# It works, now what?"
   ]
  },
  {
   "cell_type": "markdown",
   "metadata": {
    "id": "NjpqSrSuk2i0"
   },
   "source": [
    "In this notebook you have learned how to use embeddings, recurrent neural networks, and the LSTM cell in particular.\n",
    "\n",
    "As we have already seen, RNNs are excellent for sequential data such as language. But what do we do if we're modelling data with strong dependency in both directions? Like in many things deep learning, we can build powerful models by stacking layers on top of each other; *bi-directional* RNNs consist of two LSTM cells, one for each direction. A sequence is first fed into the forward LSTM cell and the reversed sequence is then used as input to the backward LSTM cell together with the last hidden state from the forward LSTM cell. Follow [this link](https://pdfs.semanticscholar.org/4b80/89bc9b49f84de43acc2eb8900035f7d492b2.pdf) for the original paper from 1997(!).\n",
    "\n",
    "For even deeper representations, multiple layers of both uni-directional and bi-directional RNNs can be stacked ontop of each other, just like feed-forward and convolutional layers. For more information on this, check out the [LSTM PyTorch documentation](https://pytorch.org/docs/stable/nn.html#lstm). Next week we will also explore ways to combine RNNs with other types of layers for even more expressive function approximators."
   ]
  }
 ],
 "metadata": {
  "colab": {
   "collapsed_sections": [
    "bdA4LPsFiACe",
    "cGSoDRgHk2g1",
    "Dzmryk72k2g-",
    "M93ORx95k2ix"
   ],
   "name": "5.1-EXE-Recurrent-Neural-Networks-Nanograd.ipynb",
   "provenance": []
  },
  "kernelspec": {
   "display_name": "Python 3 (ipykernel)",
   "language": "python",
   "name": "python3"
  },
  "language_info": {
   "codemirror_mode": {
    "name": "ipython",
    "version": 3
   },
   "file_extension": ".py",
   "mimetype": "text/x-python",
   "name": "python",
   "nbconvert_exporter": "python",
   "pygments_lexer": "ipython3",
   "version": "3.8.10"
  }
 },
 "nbformat": 4,
 "nbformat_minor": 1
}
