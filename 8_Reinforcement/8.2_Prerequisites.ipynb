{
 "cells": [
  {
   "cell_type": "markdown",
   "metadata": {},
   "source": [
    "# Prerequisites\n",
    "\n",
    "> By Jonas Busk ([jbusk@dtu.dk](mailto:jbusk@dtu.dk))\n",
    "\n",
    "**2019 update:** Changes have been made to the display of environments due to the previous `viewer` being incompatible with newer versions of Gym.\n",
    "\n",
    "In this lab we will create neural network reinforcement learning agents with [PyTorch](https://pytorch.org/) to navigate various environments from [OpenAI Gym](https://gym.openai.com/) developed by [OpenAI](https://openai.com/).\n",
    "\n",
    "Please refer to the [docs](https://gym.openai.com/docs/) on how to get started with Gym. You are also encouraged to take a look at this short [post on the OpenAI blog](https://blog.openai.com/openai-gym-beta/)."
   ]
  },
  {
   "cell_type": "markdown",
   "metadata": {},
   "source": [
    "## Installation\n",
    "\n",
    "Below is a brief guide on how to install OpenAI Gym. For more details, please refer to the repository on [GitHub](https://github.com/openai/gym) and the [docs](https://gym.openai.com/docs).\n",
    "\n",
    "You can do a minimal install of the packaged version of Gym directly from PyPI:\n",
    "\n",
    "```\n",
    "pip install gym\n",
    "```\n",
    "\n",
    "Or you can perform a minimal install from GitHub:\n",
    "\n",
    "```\n",
    "git clone https://github.com/openai/gym.git\n",
    "cd gym\n",
    "pip install -e .\n",
    "```\n",
    "\n",
    "If you like, you can do a quick pip install of Gym in the cell below:"
   ]
  },
  {
   "cell_type": "code",
   "execution_count": null,
   "metadata": {},
   "outputs": [],
   "source": [
    "!pip install gym"
   ]
  },
  {
   "cell_type": "markdown",
   "metadata": {},
   "source": [
    "You will also need an installation of `ffmpeg` locally. If you do not have it installed already, you can install it by one of the following commands depending on your system:\n",
    "\n",
    "```sudo apt-get install ffmpeg``` (Linux)\n",
    "\n",
    "```conda install -c conda-forge ffmpeg``` (Anaconda)"
   ]
  },
  {
   "cell_type": "markdown",
   "metadata": {},
   "source": [
    "## Running an environment\n",
    "\n",
    "Here is a bare minimum example of running a Gym environment. This creates an instance of the [CartPole-v0](https://gym.openai.com/envs/CartPole-v0) environment and runs until the rollout is done, taking random actions and rendering the environment at each step. With Gym installed, you should be able to see a small animation of the environment below.\n",
    "\n",
    "**Note:** you will likely not be able to render environments in a Google Colab instance. Therefore, it may be beneficial for you to run this week's notebooks locally and/or team up with another student if you do not have a local environment."
   ]
  },
  {
   "cell_type": "code",
   "execution_count": 4,
   "metadata": {},
   "outputs": [
    {
     "data": {
      "text/html": [
       "\n",
       "        <video width=\"360\" height=\"auto\" alt=\"test\" controls><source src=\"data:video/mp4;base64,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\" type=\"video/mp4\" /></video>"
      ],
      "text/plain": [
       "<IPython.core.display.HTML object>"
      ]
     },
     "execution_count": 4,
     "metadata": {},
     "output_type": "execute_result"
    }
   ],
   "source": [
    "import gym\n",
    "from gym import wrappers\n",
    "\n",
    "env = gym.make('CartPole-v0') # Create environment\n",
    "env = wrappers.Monitor(env, \"./gym-results\", force=True) # Create wrapper to display environment\n",
    "env.reset() # Reset environment\n",
    "\n",
    "# Run environment\n",
    "while True:\n",
    "    env.render() # Render environment\n",
    "    action = env.action_space.sample() # Get a random action\n",
    "    _, _, done, _ = env.step(action) # Take a step\n",
    "    if done: break # Break if environment is done\n",
    "\n",
    "env.close() # Close environment\n",
    "\n",
    "def show_replay():\n",
    "    \"\"\"\n",
    "    Not-so-elegant way to display the MP4 file generated by the Monitor wrapper inside a notebook.\n",
    "    The Monitor wrapper dumps the replay to a local file that we then display as a HTML video object.\n",
    "    \"\"\"\n",
    "    import io\n",
    "    import base64\n",
    "    from IPython.display import HTML\n",
    "    video = io.open('./gym-results/openaigym.video.%s.video000000.mp4' % env.file_infix, 'r+b').read()\n",
    "    encoded = base64.b64encode(video)\n",
    "    return HTML(data='''\n",
    "        <video width=\"360\" height=\"auto\" alt=\"test\" controls><source src=\"data:video/mp4;base64,{0}\" type=\"video/mp4\" /></video>'''\n",
    "    .format(encoded.decode('ascii')))\n",
    "    \n",
    "show_replay()"
   ]
  },
  {
   "cell_type": "markdown",
   "metadata": {},
   "source": [
    "Hooray! You now have a working `Gym` environment that we can take actions in and render."
   ]
  }
 ],
 "metadata": {
  "kernelspec": {
   "display_name": "Python 3 (ipykernel)",
   "language": "python",
   "name": "python3"
  },
  "language_info": {
   "codemirror_mode": {
    "name": "ipython",
    "version": 3
   },
   "file_extension": ".py",
   "mimetype": "text/x-python",
   "name": "python",
   "nbconvert_exporter": "python",
   "pygments_lexer": "ipython3",
   "version": "3.8.10"
  }
 },
 "nbformat": 4,
 "nbformat_minor": 4
}
